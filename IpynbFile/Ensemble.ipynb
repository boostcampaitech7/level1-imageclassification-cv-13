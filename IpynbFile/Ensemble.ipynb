{
 "cells": [
  {
   "cell_type": "code",
   "execution_count": 1,
   "metadata": {},
   "outputs": [],
   "source": [
    "import numpy as np\n",
    "from PIL import Image\n",
    "import matplotlib.pyplot as plt\n",
    "import torch\n",
    "import torch.nn as nn\n",
    "import torch.nn.functional as F\n",
    "import timm\n",
    "import pandas as pd\n",
    "import random\n",
    "import os\n",
    "from tqdm import tqdm\n",
    "import torchvision.transforms as T\n",
    "from sklearn.model_selection import train_test_split\n",
    "from torch.utils.data import Dataset, DataLoader, Subset\n",
    "from torch.utils.data import ConcatDataset\n",
    "import torch.optim as optim\n",
    "from torch.optim.lr_scheduler import CosineAnnealingLR, ReduceLROnPlateau, OneCycleLR, CosineAnnealingWarmRestarts, StepLR\n",
    "import albumentations as A\n",
    "from albumentations.pytorch import ToTensorV2\n",
    "from sklearn.model_selection import StratifiedKFold\n",
    "import cv2\n",
    "import wandb"
   ]
  },
  {
   "cell_type": "code",
   "execution_count": 3,
   "metadata": {},
   "outputs": [
    {
     "name": "stderr",
     "output_type": "stream",
     "text": [
      "\u001b[34m\u001b[1mwandb\u001b[0m: Using wandb-core as the SDK backend. Please refer to https://wandb.me/wandb-core for more information.\n"
     ]
    },
    {
     "name": "stderr",
     "output_type": "stream",
     "text": [
      "\u001b[34m\u001b[1mwandb\u001b[0m: Currently logged in as: \u001b[33msuperl3\u001b[0m (\u001b[33msuperl3-naver\u001b[0m). Use \u001b[1m`wandb login --relogin`\u001b[0m to force relogin\n"
     ]
    },
    {
     "data": {
      "text/html": [
       "Tracking run with wandb version 0.18.1"
      ],
      "text/plain": [
       "<IPython.core.display.HTML object>"
      ]
     },
     "metadata": {},
     "output_type": "display_data"
    },
    {
     "data": {
      "text/html": [
       "Run data is saved locally in <code>/data/ephemeral/home/Dongook/train_model/wandb/run-20240926_163026-c5wffhne</code>"
      ],
      "text/plain": [
       "<IPython.core.display.HTML object>"
      ]
     },
     "metadata": {},
     "output_type": "display_data"
    },
    {
     "data": {
      "text/html": [
       "Syncing run <strong><a href='https://wandb.ai/superl3-naver/ensemble%20CLIP-ViT%20%26%20EfficientNetB3%20%26%20Swin%20%26%20ResNet50_ROP/runs/c5wffhne' target=\"_blank\">sparkling-smoke-7</a></strong> to <a href='https://wandb.ai/superl3-naver/ensemble%20CLIP-ViT%20%26%20EfficientNetB3%20%26%20Swin%20%26%20ResNet50_ROP' target=\"_blank\">Weights & Biases</a> (<a href='https://wandb.me/run' target=\"_blank\">docs</a>)<br/>"
      ],
      "text/plain": [
       "<IPython.core.display.HTML object>"
      ]
     },
     "metadata": {},
     "output_type": "display_data"
    },
    {
     "data": {
      "text/html": [
       " View project at <a href='https://wandb.ai/superl3-naver/ensemble%20CLIP-ViT%20%26%20EfficientNetB3%20%26%20Swin%20%26%20ResNet50_ROP' target=\"_blank\">https://wandb.ai/superl3-naver/ensemble%20CLIP-ViT%20%26%20EfficientNetB3%20%26%20Swin%20%26%20ResNet50_ROP</a>"
      ],
      "text/plain": [
       "<IPython.core.display.HTML object>"
      ]
     },
     "metadata": {},
     "output_type": "display_data"
    },
    {
     "data": {
      "text/html": [
       " View run at <a href='https://wandb.ai/superl3-naver/ensemble%20CLIP-ViT%20%26%20EfficientNetB3%20%26%20Swin%20%26%20ResNet50_ROP/runs/c5wffhne' target=\"_blank\">https://wandb.ai/superl3-naver/ensemble%20CLIP-ViT%20%26%20EfficientNetB3%20%26%20Swin%20%26%20ResNet50_ROP/runs/c5wffhne</a>"
      ],
      "text/plain": [
       "<IPython.core.display.HTML object>"
      ]
     },
     "metadata": {},
     "output_type": "display_data"
    },
    {
     "data": {
      "text/html": [
       "<button onClick=\"this.nextSibling.style.display='block';this.style.display='none';\">Display W&B run</button><iframe src='https://wandb.ai/superl3-naver/ensemble%20CLIP-ViT%20%26%20EfficientNetB3%20%26%20Swin%20%26%20ResNet50_ROP/runs/c5wffhne?jupyter=true' style='border:none;width:100%;height:420px;display:none;'></iframe>"
      ],
      "text/plain": [
       "<wandb.sdk.wandb_run.Run at 0x7f0b0cf25180>"
      ]
     },
     "execution_count": 3,
     "metadata": {},
     "output_type": "execute_result"
    }
   ],
   "source": [
    "wandb.init(\n",
    "    project=\"ensemble CLIP-ViT & EfficientNetB3 & Swin & ResNet50_ROP\",\n",
    "\n",
    "    config={\n",
    "    \"scheduler\": \"ReduceLROnPlateau\",\n",
    "    \"optimizer\" : \"AdamW\",\n",
    "    \"optimizer-lr\" : 5e-4,\n",
    "    \"optimizer-weight_decay\" : 1e-4,\n",
    "    \"scheduler-step_size\": 3,\n",
    "    \"scheduler-gamma\":0.1,\n",
    "    \"architecture\": \"CLIP-ViT & EfficientNetB3 & Swin & ResNet50\",\n",
    "    \"dataset\": \"SketchNet\",\n",
    "    \"epochs\": 5,\n",
    "    }\n",
    ")"
   ]
  },
  {
   "cell_type": "code",
   "execution_count": 2,
   "metadata": {},
   "outputs": [
    {
     "data": {
      "text/html": [
       "<div>\n",
       "<style scoped>\n",
       "    .dataframe tbody tr th:only-of-type {\n",
       "        vertical-align: middle;\n",
       "    }\n",
       "\n",
       "    .dataframe tbody tr th {\n",
       "        vertical-align: top;\n",
       "    }\n",
       "\n",
       "    .dataframe thead th {\n",
       "        text-align: right;\n",
       "    }\n",
       "</style>\n",
       "<table border=\"1\" class=\"dataframe\">\n",
       "  <thead>\n",
       "    <tr style=\"text-align: right;\">\n",
       "      <th></th>\n",
       "      <th>class_name</th>\n",
       "      <th>image_path</th>\n",
       "      <th>target</th>\n",
       "    </tr>\n",
       "  </thead>\n",
       "  <tbody>\n",
       "    <tr>\n",
       "      <th>0</th>\n",
       "      <td>n01872401</td>\n",
       "      <td>n01872401/sketch_50.JPEG</td>\n",
       "      <td>59</td>\n",
       "    </tr>\n",
       "    <tr>\n",
       "      <th>1</th>\n",
       "      <td>n02417914</td>\n",
       "      <td>n02417914/sketch_11.JPEG</td>\n",
       "      <td>202</td>\n",
       "    </tr>\n",
       "    <tr>\n",
       "      <th>2</th>\n",
       "      <td>n02106166</td>\n",
       "      <td>n02106166/sketch_3.JPEG</td>\n",
       "      <td>138</td>\n",
       "    </tr>\n",
       "  </tbody>\n",
       "</table>\n",
       "</div>"
      ],
      "text/plain": [
       "  class_name                image_path  target\n",
       "0  n01872401  n01872401/sketch_50.JPEG      59\n",
       "1  n02417914  n02417914/sketch_11.JPEG     202\n",
       "2  n02106166   n02106166/sketch_3.JPEG     138"
      ]
     },
     "execution_count": 2,
     "metadata": {},
     "output_type": "execute_result"
    }
   ],
   "source": [
    "device = torch.device(\"cuda\" if torch.cuda.is_available() else \"cpu\")\n",
    "train_base_dir = '/data/ephemeral/home/data/train'\n",
    "test_base_dir = '/data/ephemeral/home/data/test'\n",
    "\n",
    "\n",
    "traindata_info_file = \"/data/ephemeral/home/data/train.csv\"\n",
    "\n",
    "testdata_info_file = \"/data/ephemeral/home/data/test.csv\"\n",
    "\n",
    "train_data = pd.read_csv(traindata_info_file)\n",
    "\n",
    "test_data = pd.read_csv(testdata_info_file)\n",
    "\n",
    "x = train_data['image_path']\n",
    "y = train_data['target']\n",
    "\n",
    "train_data.head(3)"
   ]
  },
  {
   "cell_type": "code",
   "execution_count": 5,
   "metadata": {},
   "outputs": [],
   "source": [
    "class Train():\n",
    "    def __init__(self, model, device, train_loader, val_loader, epochs, optimizer, criterion, scheduler, \n",
    "                 early_stop = False, patience_limit = None, best_val_loss = float('inf'), best_model = None):\n",
    "        self.model = model\n",
    "        self.device = device\n",
    "        self.train_loader = train_loader\n",
    "        self.val_loader = val_loader\n",
    "        self.epochs = epochs\n",
    "        self.optimizer = optimizer\n",
    "        self.criterion = criterion\n",
    "        self.scheduler = scheduler\n",
    "        self.early_stop = early_stop\n",
    "        self.patience_limit = patience_limit\n",
    "        self.best_val_loss = best_val_loss\n",
    "        self.best_model = best_model\n",
    "\n",
    "    def train(self):\n",
    "        patience_check = 0\n",
    "        self.model.to(self.device)\n",
    "        for epoch in range(self.epochs):\n",
    "            running_loss = 0.0\n",
    "\n",
    "            # 모델 학습\n",
    "            torch.cuda.empty_cache()\n",
    "            self.model.train()\n",
    "            for idx, (images, labels) in enumerate(tqdm(self.train_loader, desc=f\"Epoch {epoch+1}/{self.epochs}\")):\n",
    "                images, labels = images.to(self.device), labels.to(self.device)\n",
    "                \n",
    "                outputs = self.model(images)\n",
    "                \n",
    "                loss = self.criterion(outputs, labels)\n",
    "                \n",
    "                self.optimizer.zero_grad()\n",
    "                loss.backward()\n",
    "                self.optimizer.step()\n",
    "                \n",
    "                running_loss += loss.item()\n",
    "            \n",
    "            train_loss = running_loss / len(self.train_loader)\n",
    "\n",
    "            # 모델 평가\n",
    "            torch.cuda.empty_cache()\n",
    "            self.model.eval()\n",
    "            correct = 0\n",
    "            total = 0\n",
    "            running_val_loss = 0.0\n",
    "            with torch.no_grad():\n",
    "                for inputs, labels in self.val_loader:\n",
    "                    inputs, labels = inputs.to(self.device), labels.to(self.device)\n",
    "                    \n",
    "                    outputs = self.model(inputs)\n",
    "                    loss = self.criterion(outputs, labels)\n",
    "                    running_val_loss += loss.item()\n",
    "                    _, pred = torch.max(outputs, 1)\n",
    "                    \n",
    "                    total += labels.size(0)\n",
    "                    correct += (pred == labels).sum().item()\n",
    "\n",
    "                accuracy = 100 * correct / total\n",
    "                val_loss = running_val_loss / len(self.val_loader)\n",
    "                \n",
    "            print(f'Epoch {epoch + 1}/{self.epochs}, Test_Loss: {train_loss:.4f}, Val_Loss: {val_loss:.4f}, Accuracy: {accuracy:.2f}%')\n",
    "            wandb.log({\"acc\": accuracy, \"loss\": val_loss})\n",
    "            \n",
    "            if self.best_val_loss > val_loss:\n",
    "                self.best_val_loss = val_loss\n",
    "                self.best_model = self.model.state_dict()\n",
    "                torch.save(self.model.state_dict(), '/data/ephemeral/home/Dongook/model_dw/ens4_rop.pt')\n",
    "\n",
    "            # 조기 종료\n",
    "            if self.early_stop and self.patience_limit is not None:\n",
    "                if val_loss > self.best_val_loss:\n",
    "                    patience_check += 1\n",
    "                    if patience_check >= self.patience_limit:\n",
    "                        break\n",
    "                else: \n",
    "                    self.best_val_loss = val_loss\n",
    "                    patience_check = 0\n",
    "                    torch.save(self.model.state_dict(), '/data/ephemeral/home/Dongook/model_dw/ens4_rop.pt')\n",
    "\n",
    "            self.scheduler.step(val_loss)"
   ]
  },
  {
   "cell_type": "code",
   "execution_count": 6,
   "metadata": {},
   "outputs": [],
   "source": [
    "transform = A.Compose([\n",
    "        A.Resize(224,224),\n",
    "        A.Normalize(mean=(0.485, 0.456, 0.406), std=(0.229, 0.224, 0.225)),\n",
    "        ToTensorV2()\n",
    "    ])"
   ]
  },
  {
   "cell_type": "code",
   "execution_count": 7,
   "metadata": {},
   "outputs": [],
   "source": [
    "def fill_white(img):\n",
    "    img_np = np.array(img)\n",
    "\n",
    "    # 각 채널에 대해 Canny 엣지 검출 적용\n",
    "    edges_r = cv2.Canny(img_np[:, :, 0], 50, 150)\n",
    "    edges_g = cv2.Canny(img_np[:, :, 1], 50, 150)\n",
    "    edges_b = cv2.Canny(img_np[:, :, 2], 50, 150)\n",
    "\n",
    "    # 세 채널의 엣지를 결합하여 하나의 이미지로 생성\n",
    "    edges_combined = np.maximum(np.maximum(edges_r, edges_g), edges_b)\n",
    "\n",
    "    # 모폴로지 연산을 위한 커널 생성\n",
    "    kernel = np.ones((3, 3), np.uint8)  \n",
    "    # 엣지 이미지를 닫기 위한 모폴로지 연산 적용\n",
    "    closed_edges = cv2.morphologyEx(edges_combined, cv2.MORPH_CLOSE, kernel)\n",
    "\n",
    "    filled_image_rgb = cv2.cvtColor(closed_edges, cv2.COLOR_GRAY2RGB)\n",
    "\n",
    "    inverted_edges = cv2.bitwise_not(closed_edges)\n",
    "\n",
    "    # 흰색 배경 이미지 생성\n",
    "    filled_image_rgb = np.full_like(img_np, 255)  \n",
    "    # 배경이 흰색인 상태에서 검은색 선을 포함한 inverted_edges를 복사\n",
    "    filled_image_rgb[inverted_edges == 0] = [0, 0, 0] \n",
    "\n",
    "    transform = A.Compose([\n",
    "        A.Affine(scale=(0.5, 1.5), p=0.5),\n",
    "        A.CoarseDropout(max_holes=4, max_height=30, max_width=30, fill_value=255, p=0.5),\n",
    "        A.HorizontalFlip(p=0.5),\n",
    "        A.LongestMaxSize(256),\n",
    "        A.PadIfNeeded(256, 256, border_mode=cv2.BORDER_CONSTANT, value=(255, 255, 255)),\n",
    "        A.RandomCrop(224, 224,p=1.0),\n",
    "        A.Normalize(mean=(0.485, 0.456, 0.406), std=(0.229, 0.224, 0.225)),\n",
    "        ToTensorV2()\n",
    "    ])\n",
    "\n",
    "    transformed = transform(image=filled_image_rgb)\n",
    "    \n",
    "    return transformed['image']\n"
   ]
  },
  {
   "cell_type": "code",
   "execution_count": 8,
   "metadata": {},
   "outputs": [],
   "source": [
    "class CustomDataset(Dataset):\n",
    "    def __init__(self, image_paths, labels, is_aug = False):\n",
    "        self.image_paths = image_paths\n",
    "        self.labels = labels\n",
    "        self.is_aug = is_aug\n",
    "\n",
    "    def __len__(self):\n",
    "        return len(self.image_paths)\n",
    "\n",
    "    def __getitem__(self, idx):\n",
    "        image_path = self.image_paths[idx]\n",
    "        image = Image.open(os.path.join(train_base_dir, image_path)).convert('RGB')\n",
    "        if not self.is_aug:\n",
    "            image = np.array(image)\n",
    "            image = transform(image=image)['image']\n",
    "        else:\n",
    "            image = fill_white(image)\n",
    "        \n",
    "        label = torch.tensor(self.labels[idx], dtype=torch.long)\n",
    "        return image, label"
   ]
  },
  {
   "cell_type": "code",
   "execution_count": 9,
   "metadata": {},
   "outputs": [],
   "source": [
    "x_train = []\n",
    "y_train = []\n",
    "for i in range(len(train_data)):\n",
    "    x_train.append(os.path.join(train_base_dir, train_data['image_path'].iloc[i]))\n",
    "    y_train.append(train_data['target'].iloc[i])"
   ]
  },
  {
   "cell_type": "code",
   "execution_count": 10,
   "metadata": {},
   "outputs": [
    {
     "name": "stdout",
     "output_type": "stream",
     "text": [
      "15021\n",
      "12016\n",
      "3005\n"
     ]
    }
   ],
   "source": [
    "x_train, x_val, y_train, y_val = train_test_split(x_train, y_train, test_size = 0.2, stratify= y_train, random_state = 42)\n",
    "\n",
    "print(len(train_data))\n",
    "print(len(x_train))\n",
    "print(len(x_val))"
   ]
  },
  {
   "cell_type": "code",
   "execution_count": 11,
   "metadata": {},
   "outputs": [
    {
     "name": "stdout",
     "output_type": "stream",
     "text": [
      "12016\n",
      "12016\n",
      "3005\n",
      "24032\n"
     ]
    }
   ],
   "source": [
    "train_dataset = CustomDataset(x_train, y_train, is_aug = False)\n",
    "aug_dataset = CustomDataset(x_train, y_train, is_aug = True)\n",
    "val_dataset = CustomDataset(x_val, y_val, is_aug = False)\n",
    "\n",
    "print(len(train_dataset))\n",
    "print(len(aug_dataset))\n",
    "print(len(val_dataset))\n",
    "\n",
    "dataset = ConcatDataset([train_dataset, aug_dataset])\n",
    "print(len(dataset))"
   ]
  },
  {
   "cell_type": "code",
   "execution_count": 12,
   "metadata": {},
   "outputs": [],
   "source": [
    "train_loader = DataLoader(dataset, 32, num_workers=4, shuffle=True)\n",
    "val_loader = DataLoader(val_dataset, 32, num_workers=2, shuffle=False)"
   ]
  },
  {
   "cell_type": "code",
   "execution_count": 6,
   "metadata": {},
   "outputs": [
    {
     "data": {
      "text/plain": [
       "<All keys matched successfully>"
      ]
     },
     "execution_count": 6,
     "metadata": {},
     "output_type": "execute_result"
    }
   ],
   "source": [
    "from transformers import CLIPModel\n",
    "\n",
    "clip = CLIPModel.from_pretrained(\"openai/clip-vit-large-patch14\")\n",
    "image_encoder = clip.vision_model\n",
    "\n",
    "class Clip(nn.Module):\n",
    "    def __init__(self, image_encoder):\n",
    "        super(Clip, self).__init__()  \n",
    "        self.clip = image_encoder\n",
    "        self.mlp = nn.Sequential(\n",
    "            nn.Linear(1024, 256), \n",
    "            nn.BatchNorm1d(256),\n",
    "            nn.ReLU(),\n",
    "            nn.Dropout(0.5),\n",
    "            nn.Linear(256, 500)\n",
    "        )\n",
    "\n",
    "    def forward(self, images):\n",
    "        with torch.no_grad():\n",
    "            image_features = self.clip(images).last_hidden_state\n",
    "        \n",
    "        y = self.mlp(image_features[:, 0, :])\n",
    "        return y\n",
    "    \n",
    "clip_model = Clip(image_encoder)\n",
    "clip_model.load_state_dict(torch.load('/data/ephemeral/home/Dongook/model_dw/Clip_rop.pt'))\n",
    "\n",
    "for param in clip_model.parameters():\n",
    "    param.requires_grad = False"
   ]
  },
  {
   "cell_type": "code",
   "execution_count": 7,
   "metadata": {},
   "outputs": [
    {
     "data": {
      "text/plain": [
       "<All keys matched successfully>"
      ]
     },
     "execution_count": 7,
     "metadata": {},
     "output_type": "execute_result"
    }
   ],
   "source": [
    "cnn_model = timm.create_model('tf_efficientnet_b3', pretrained = False, num_classes = 500)\n",
    "cnn_model.load_state_dict(torch.load('/data/ephemeral/home/Dongook/model_dw/effib3_83.79.pt'))\n",
    "\n",
    "for param in cnn_model.parameters():\n",
    "    param.requires_grad = False"
   ]
  },
  {
   "cell_type": "code",
   "execution_count": 8,
   "metadata": {},
   "outputs": [
    {
     "data": {
      "text/plain": [
       "<All keys matched successfully>"
      ]
     },
     "execution_count": 8,
     "metadata": {},
     "output_type": "execute_result"
    }
   ],
   "source": [
    "swin_model = timm.create_model('swin_base_patch4_window7_224', pretrained=False, num_classes=500)\n",
    "swin_model.load_state_dict(torch.load('/data/ephemeral/home/Dongook/model_dw/swin_feed.pt'))\n",
    "\n",
    "for param in swin_model.parameters():\n",
    "    param.requires_grad = False"
   ]
  },
  {
   "cell_type": "code",
   "execution_count": 9,
   "metadata": {},
   "outputs": [
    {
     "data": {
      "text/plain": [
       "<All keys matched successfully>"
      ]
     },
     "execution_count": 9,
     "metadata": {},
     "output_type": "execute_result"
    }
   ],
   "source": [
    "res_model = timm.create_model('resnet50d', pretrained = False, num_classes = 500)\n",
    "res_model.load_state_dict(torch.load('/data/ephemeral/home/Dongook/model_dw/res50d_e120.pt'))\n",
    "\n",
    "for param in res_model.parameters():\n",
    "    param.requires_grad = False"
   ]
  },
  {
   "cell_type": "code",
   "execution_count": 4,
   "metadata": {},
   "outputs": [],
   "source": [
    "class AdaptiveEnsemble(nn.Module):\n",
    "    def __init__(self, clip_model, cnn_model, swin_model, res_model):\n",
    "        super().__init__()\n",
    "        self.clip = clip_model\n",
    "        self.cnn = cnn_model\n",
    "        self.swin = swin_model\n",
    "        self.res = res_model\n",
    "\n",
    "        self.clip_weight = nn.Parameter(torch.tensor(0.3))\n",
    "        self.cnn_weight = nn.Parameter(torch.tensor(0.2))\n",
    "        self.swin_weight = nn.Parameter(torch.tensor(0.3))\n",
    "        self.res_weight = nn.Parameter(torch.tensor(0.2))\n",
    "\n",
    "    def forward(self, x):\n",
    "        clip_y = self.clip(x)\n",
    "        cnn_y = self.cnn(x)\n",
    "        swin_y = self.swin(x)\n",
    "        res_y = self.res(x)\n",
    "        ensemble_y = self.clip_weight * clip_y + self.cnn_weight * cnn_y + self.swin_weight * swin_y + self.res_weight * res_y\n",
    "        \n",
    "        return ensemble_y"
   ]
  },
  {
   "cell_type": "code",
   "execution_count": 18,
   "metadata": {},
   "outputs": [
    {
     "name": "stderr",
     "output_type": "stream",
     "text": [
      "Epoch 1/5: 100%|██████████| 751/751 [12:27<00:00,  1.00it/s]\n"
     ]
    },
    {
     "name": "stdout",
     "output_type": "stream",
     "text": [
      "Epoch 1/5, Val_Loss: 0.8580, Val_Loss: 1.0075, Accuracy: 89.62%\n"
     ]
    },
    {
     "name": "stderr",
     "output_type": "stream",
     "text": [
      "Epoch 2/5: 100%|██████████| 751/751 [12:26<00:00,  1.01it/s]\n"
     ]
    },
    {
     "name": "stdout",
     "output_type": "stream",
     "text": [
      "Epoch 2/5, Val_Loss: 0.7794, Val_Loss: 1.0018, Accuracy: 89.18%\n"
     ]
    },
    {
     "name": "stderr",
     "output_type": "stream",
     "text": [
      "Epoch 3/5: 100%|██████████| 751/751 [12:26<00:00,  1.01it/s]\n"
     ]
    },
    {
     "name": "stdout",
     "output_type": "stream",
     "text": [
      "Epoch 3/5, Val_Loss: 0.7310, Val_Loss: 1.0085, Accuracy: 88.89%\n"
     ]
    },
    {
     "name": "stderr",
     "output_type": "stream",
     "text": [
      "Epoch 4/5: 100%|██████████| 751/751 [12:27<00:00,  1.01it/s]\n"
     ]
    },
    {
     "name": "stdout",
     "output_type": "stream",
     "text": [
      "Epoch 4/5, Val_Loss: 0.7068, Val_Loss: 1.0161, Accuracy: 88.35%\n"
     ]
    },
    {
     "name": "stderr",
     "output_type": "stream",
     "text": [
      "Epoch 5/5: 100%|██████████| 751/751 [12:26<00:00,  1.01it/s]\n"
     ]
    },
    {
     "name": "stdout",
     "output_type": "stream",
     "text": [
      "Epoch 5/5, Val_Loss: 0.6953, Val_Loss: 1.0221, Accuracy: 87.92%\n"
     ]
    },
    {
     "data": {
      "application/vnd.jupyter.widget-view+json": {
       "model_id": "7cc24e588c56414b9453a3fa8e484747",
       "version_major": 2,
       "version_minor": 0
      },
      "text/plain": [
       "VBox(children=(Label(value='0.005 MB of 0.005 MB uploaded\\r'), FloatProgress(value=1.0, max=1.0)))"
      ]
     },
     "metadata": {},
     "output_type": "display_data"
    },
    {
     "data": {
      "text/html": [
       "<style>\n",
       "    table.wandb td:nth-child(1) { padding: 0 10px; text-align: left ; width: auto;} td:nth-child(2) {text-align: left ; width: 100%}\n",
       "    .wandb-row { display: flex; flex-direction: row; flex-wrap: wrap; justify-content: flex-start; width: 100% }\n",
       "    .wandb-col { display: flex; flex-direction: column; flex-basis: 100%; flex: 1; padding: 10px; }\n",
       "    </style>\n",
       "<div class=\"wandb-row\"><div class=\"wandb-col\"><h3>Run history:</h3><br/><table class=\"wandb\"><tr><td>acc</td><td>█▆▅▃▁</td></tr><tr><td>loss</td><td>▃▁▃▆█</td></tr></table><br/></div><div class=\"wandb-col\"><h3>Run summary:</h3><br/><table class=\"wandb\"><tr><td>acc</td><td>87.92013</td></tr><tr><td>loss</td><td>1.02206</td></tr></table><br/></div></div>"
      ],
      "text/plain": [
       "<IPython.core.display.HTML object>"
      ]
     },
     "metadata": {},
     "output_type": "display_data"
    },
    {
     "data": {
      "text/html": [
       " View run <strong style=\"color:#cdcd00\">sparkling-smoke-7</strong> at: <a href='https://wandb.ai/superl3-naver/ensemble%20CLIP-ViT%20%26%20EfficientNetB3%20%26%20Swin%20%26%20ResNet50_ROP/runs/c5wffhne' target=\"_blank\">https://wandb.ai/superl3-naver/ensemble%20CLIP-ViT%20%26%20EfficientNetB3%20%26%20Swin%20%26%20ResNet50_ROP/runs/c5wffhne</a><br/> View project at: <a href='https://wandb.ai/superl3-naver/ensemble%20CLIP-ViT%20%26%20EfficientNetB3%20%26%20Swin%20%26%20ResNet50_ROP' target=\"_blank\">https://wandb.ai/superl3-naver/ensemble%20CLIP-ViT%20%26%20EfficientNetB3%20%26%20Swin%20%26%20ResNet50_ROP</a><br/>Synced 5 W&B file(s), 0 media file(s), 0 artifact file(s) and 0 other file(s)"
      ],
      "text/plain": [
       "<IPython.core.display.HTML object>"
      ]
     },
     "metadata": {},
     "output_type": "display_data"
    },
    {
     "data": {
      "text/html": [
       "Find logs at: <code>./wandb/run-20240926_163026-c5wffhne/logs</code>"
      ],
      "text/plain": [
       "<IPython.core.display.HTML object>"
      ]
     },
     "metadata": {},
     "output_type": "display_data"
    }
   ],
   "source": [
    "ensemble_model = AdaptiveEnsemble(clip_model, cnn_model, swin_model, res_model)\n",
    "\n",
    "epochs = 5\n",
    "criterion = nn.CrossEntropyLoss(label_smoothing = 0.05)\n",
    "optimizer = torch.optim.AdamW([ensemble_model.weights], lr=5e-4, weight_decay=1e-4)\n",
    "\n",
    "scheduler = ReduceLROnPlateau(optimizer, mode='min', factor=0.1, patience=3, verbose=True)\n",
    "trainer = Train(ensemble_model, device = device, train_loader = train_loader, val_loader = val_loader, epochs = epochs,\n",
    "                    optimizer = optimizer, criterion = criterion, scheduler = scheduler, early_stop= True, patience_limit=3)\n",
    "trainer.train()\n",
    "wandb.finish()"
   ]
  },
  {
   "cell_type": "code",
   "execution_count": 19,
   "metadata": {},
   "outputs": [],
   "source": [
    "class TestDataset(Dataset):\n",
    "    def __init__(self, image_paths):\n",
    "        self.image_paths = image_paths\n",
    "\n",
    "    def __len__(self):\n",
    "        return len(self.image_paths)\n",
    "\n",
    "    def __getitem__(self, idx):\n",
    "        image_path = self.image_paths[idx]\n",
    "        image = Image.open(os.path.join(test_base_dir, image_path)).convert('RGB')\n",
    "        image = np.array(image)\n",
    "        image = transform(image=image)['image']\n",
    "        return image\n",
    "test_dataset = TestDataset(list(test_data['image_path']))"
   ]
  },
  {
   "cell_type": "code",
   "execution_count": 20,
   "metadata": {},
   "outputs": [
    {
     "name": "stdout",
     "output_type": "stream",
     "text": [
      "313\n"
     ]
    }
   ],
   "source": [
    "test_loader = DataLoader(test_dataset, batch_size=32, shuffle=False)\n",
    "print(len(test_loader))"
   ]
  },
  {
   "cell_type": "code",
   "execution_count": 24,
   "metadata": {},
   "outputs": [
    {
     "name": "stderr",
     "output_type": "stream",
     "text": [
      "  0%|          | 0/313 [00:00<?, ?it/s]"
     ]
    },
    {
     "name": "stderr",
     "output_type": "stream",
     "text": [
      "100%|██████████| 313/313 [03:56<00:00,  1.32it/s]\n"
     ]
    }
   ],
   "source": [
    "basic_ens_model = AdaptiveEnsemble(clip_model, cnn_model, swin_model, res_model)\n",
    "basic_ens_model.load_state_dict(torch.load('/data/ephemeral/home/Dongook/model_dw/ens4_rop.pt'))\n",
    "\n",
    "basic_ens_model.to(device)\n",
    "basic_ens_model.eval()\n",
    "    \n",
    "predictions = []\n",
    "with torch.no_grad():  \n",
    "    for images in tqdm(test_loader):\n",
    "        images = images.to(device)\n",
    "            \n",
    "        logits = basic_ens_model(images)\n",
    "        logits = F.softmax(logits, dim=1)\n",
    "        preds = logits.argmax(dim=1)\n",
    "            \n",
    "        predictions.extend(preds.cpu().detach().numpy())"
   ]
  },
  {
   "cell_type": "code",
   "execution_count": 25,
   "metadata": {},
   "outputs": [
    {
     "data": {
      "text/html": [
       "<div>\n",
       "<style scoped>\n",
       "    .dataframe tbody tr th:only-of-type {\n",
       "        vertical-align: middle;\n",
       "    }\n",
       "\n",
       "    .dataframe tbody tr th {\n",
       "        vertical-align: top;\n",
       "    }\n",
       "\n",
       "    .dataframe thead th {\n",
       "        text-align: right;\n",
       "    }\n",
       "</style>\n",
       "<table border=\"1\" class=\"dataframe\">\n",
       "  <thead>\n",
       "    <tr style=\"text-align: right;\">\n",
       "      <th></th>\n",
       "      <th>ID</th>\n",
       "      <th>image_path</th>\n",
       "      <th>target</th>\n",
       "    </tr>\n",
       "  </thead>\n",
       "  <tbody>\n",
       "    <tr>\n",
       "      <th>0</th>\n",
       "      <td>0</td>\n",
       "      <td>0.JPEG</td>\n",
       "      <td>328</td>\n",
       "    </tr>\n",
       "    <tr>\n",
       "      <th>1</th>\n",
       "      <td>1</td>\n",
       "      <td>1.JPEG</td>\n",
       "      <td>414</td>\n",
       "    </tr>\n",
       "    <tr>\n",
       "      <th>2</th>\n",
       "      <td>2</td>\n",
       "      <td>2.JPEG</td>\n",
       "      <td>493</td>\n",
       "    </tr>\n",
       "    <tr>\n",
       "      <th>3</th>\n",
       "      <td>3</td>\n",
       "      <td>3.JPEG</td>\n",
       "      <td>17</td>\n",
       "    </tr>\n",
       "    <tr>\n",
       "      <th>4</th>\n",
       "      <td>4</td>\n",
       "      <td>4.JPEG</td>\n",
       "      <td>388</td>\n",
       "    </tr>\n",
       "    <tr>\n",
       "      <th>...</th>\n",
       "      <td>...</td>\n",
       "      <td>...</td>\n",
       "      <td>...</td>\n",
       "    </tr>\n",
       "    <tr>\n",
       "      <th>10009</th>\n",
       "      <td>10009</td>\n",
       "      <td>10009.JPEG</td>\n",
       "      <td>235</td>\n",
       "    </tr>\n",
       "    <tr>\n",
       "      <th>10010</th>\n",
       "      <td>10010</td>\n",
       "      <td>10010.JPEG</td>\n",
       "      <td>191</td>\n",
       "    </tr>\n",
       "    <tr>\n",
       "      <th>10011</th>\n",
       "      <td>10011</td>\n",
       "      <td>10011.JPEG</td>\n",
       "      <td>466</td>\n",
       "    </tr>\n",
       "    <tr>\n",
       "      <th>10012</th>\n",
       "      <td>10012</td>\n",
       "      <td>10012.JPEG</td>\n",
       "      <td>258</td>\n",
       "    </tr>\n",
       "    <tr>\n",
       "      <th>10013</th>\n",
       "      <td>10013</td>\n",
       "      <td>10013.JPEG</td>\n",
       "      <td>210</td>\n",
       "    </tr>\n",
       "  </tbody>\n",
       "</table>\n",
       "<p>10014 rows × 3 columns</p>\n",
       "</div>"
      ],
      "text/plain": [
       "          ID  image_path  target\n",
       "0          0      0.JPEG     328\n",
       "1          1      1.JPEG     414\n",
       "2          2      2.JPEG     493\n",
       "3          3      3.JPEG      17\n",
       "4          4      4.JPEG     388\n",
       "...      ...         ...     ...\n",
       "10009  10009  10009.JPEG     235\n",
       "10010  10010  10010.JPEG     191\n",
       "10011  10011  10011.JPEG     466\n",
       "10012  10012  10012.JPEG     258\n",
       "10013  10013  10013.JPEG     210\n",
       "\n",
       "[10014 rows x 3 columns]"
      ]
     },
     "execution_count": 25,
     "metadata": {},
     "output_type": "execute_result"
    }
   ],
   "source": [
    "test_data8 = pd.read_csv(testdata_info_file)\n",
    "\n",
    "test_data8['target'] = predictions\n",
    "test_data8 = test_data8.reset_index().rename(columns={\"index\": \"ID\"})\n",
    "test_data8"
   ]
  },
  {
   "cell_type": "code",
   "execution_count": 26,
   "metadata": {},
   "outputs": [
    {
     "data": {
      "text/html": [
       "<div>\n",
       "<style scoped>\n",
       "    .dataframe tbody tr th:only-of-type {\n",
       "        vertical-align: middle;\n",
       "    }\n",
       "\n",
       "    .dataframe tbody tr th {\n",
       "        vertical-align: top;\n",
       "    }\n",
       "\n",
       "    .dataframe thead th {\n",
       "        text-align: right;\n",
       "    }\n",
       "</style>\n",
       "<table border=\"1\" class=\"dataframe\">\n",
       "  <thead>\n",
       "    <tr style=\"text-align: right;\">\n",
       "      <th></th>\n",
       "      <th>ID</th>\n",
       "      <th>image_path</th>\n",
       "      <th>target</th>\n",
       "    </tr>\n",
       "  </thead>\n",
       "  <tbody>\n",
       "    <tr>\n",
       "      <th>0</th>\n",
       "      <td>0</td>\n",
       "      <td>0.JPEG</td>\n",
       "      <td>328</td>\n",
       "    </tr>\n",
       "    <tr>\n",
       "      <th>1</th>\n",
       "      <td>1</td>\n",
       "      <td>1.JPEG</td>\n",
       "      <td>414</td>\n",
       "    </tr>\n",
       "    <tr>\n",
       "      <th>2</th>\n",
       "      <td>2</td>\n",
       "      <td>2.JPEG</td>\n",
       "      <td>493</td>\n",
       "    </tr>\n",
       "    <tr>\n",
       "      <th>3</th>\n",
       "      <td>3</td>\n",
       "      <td>3.JPEG</td>\n",
       "      <td>17</td>\n",
       "    </tr>\n",
       "    <tr>\n",
       "      <th>4</th>\n",
       "      <td>4</td>\n",
       "      <td>4.JPEG</td>\n",
       "      <td>388</td>\n",
       "    </tr>\n",
       "    <tr>\n",
       "      <th>...</th>\n",
       "      <td>...</td>\n",
       "      <td>...</td>\n",
       "      <td>...</td>\n",
       "    </tr>\n",
       "    <tr>\n",
       "      <th>10009</th>\n",
       "      <td>10009</td>\n",
       "      <td>10009.JPEG</td>\n",
       "      <td>235</td>\n",
       "    </tr>\n",
       "    <tr>\n",
       "      <th>10010</th>\n",
       "      <td>10010</td>\n",
       "      <td>10010.JPEG</td>\n",
       "      <td>191</td>\n",
       "    </tr>\n",
       "    <tr>\n",
       "      <th>10011</th>\n",
       "      <td>10011</td>\n",
       "      <td>10011.JPEG</td>\n",
       "      <td>466</td>\n",
       "    </tr>\n",
       "    <tr>\n",
       "      <th>10012</th>\n",
       "      <td>10012</td>\n",
       "      <td>10012.JPEG</td>\n",
       "      <td>258</td>\n",
       "    </tr>\n",
       "    <tr>\n",
       "      <th>10013</th>\n",
       "      <td>10013</td>\n",
       "      <td>10013.JPEG</td>\n",
       "      <td>210</td>\n",
       "    </tr>\n",
       "  </tbody>\n",
       "</table>\n",
       "<p>10014 rows × 3 columns</p>\n",
       "</div>"
      ],
      "text/plain": [
       "          ID  image_path  target\n",
       "0          0      0.JPEG     328\n",
       "1          1      1.JPEG     414\n",
       "2          2      2.JPEG     493\n",
       "3          3      3.JPEG      17\n",
       "4          4      4.JPEG     388\n",
       "...      ...         ...     ...\n",
       "10009  10009  10009.JPEG     235\n",
       "10010  10010  10010.JPEG     191\n",
       "10011  10011  10011.JPEG     466\n",
       "10012  10012  10012.JPEG     258\n",
       "10013  10013  10013.JPEG     210\n",
       "\n",
       "[10014 rows x 3 columns]"
      ]
     },
     "execution_count": 26,
     "metadata": {},
     "output_type": "execute_result"
    }
   ],
   "source": [
    "test_data8.to_csv(\"/data/ephemeral/home/Dongook/output/output_basic_output_ens4.csv\", index=False)\n",
    "test_data8"
   ]
  }
 ],
 "metadata": {
  "kernelspec": {
   "display_name": "base",
   "language": "python",
   "name": "python3"
  },
  "language_info": {
   "codemirror_mode": {
    "name": "ipython",
    "version": 3
   },
   "file_extension": ".py",
   "mimetype": "text/x-python",
   "name": "python",
   "nbconvert_exporter": "python",
   "pygments_lexer": "ipython3",
   "version": "3.10.13"
  }
 },
 "nbformat": 4,
 "nbformat_minor": 2
}
