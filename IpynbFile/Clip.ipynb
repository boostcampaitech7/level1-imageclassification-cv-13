{
  "cells": [
    {
      "cell_type": "code",
      "execution_count": null,
      "metadata": {
        "id": "3RtmoAzTFFqK"
      },
      "outputs": [],
      "source": [
        "import numpy as np\n",
        "from PIL import Image\n",
        "import matplotlib.pyplot as plt\n",
        "import torch\n",
        "import torch.nn as nn\n",
        "import torch.nn.functional as F\n",
        "import timm\n",
        "import pandas as pd\n",
        "import random\n",
        "import os\n",
        "from tqdm import tqdm\n",
        "import torchvision.transforms as T\n",
        "from sklearn.model_selection import train_test_split\n",
        "from torch.utils.data import Dataset, DataLoader, Subset\n",
        "from torch.utils.data import ConcatDataset\n",
        "import torch.optim as optim\n",
        "from torch.optim.lr_scheduler import CosineAnnealingLR, ReduceLROnPlateau, OneCycleLR, CosineAnnealingWarmRestarts, StepLR\n",
        "import albumentations as A\n",
        "from albumentations.pytorch import ToTensorV2\n",
        "from sklearn.model_selection import StratifiedKFold\n",
        "import cv2"
      ]
    },
    {
      "cell_type": "code",
      "execution_count": null,
      "metadata": {
        "id": "uq0HtEP2FFqO"
      },
      "outputs": [],
      "source": [
        "seed = 42\n",
        "random.seed(seed)\n",
        "np.random.seed(seed)\n",
        "torch.manual_seed(seed)\n",
        "torch.cuda.manual_seed(seed)\n",
        "torch.backends.cudnn.deterministic = True\n",
        "torch.backends.cudnn.benchmark = False"
      ]
    },
    {
      "cell_type": "code",
      "execution_count": null,
      "metadata": {
        "id": "wQ1IJPZYFFqO",
        "outputId": "4fd3db7f-d6d6-4704-8d95-16c91d7d1b12"
      },
      "outputs": [
        {
          "data": {
            "text/html": [
              "<div>\n",
              "<style scoped>\n",
              "    .dataframe tbody tr th:only-of-type {\n",
              "        vertical-align: middle;\n",
              "    }\n",
              "\n",
              "    .dataframe tbody tr th {\n",
              "        vertical-align: top;\n",
              "    }\n",
              "\n",
              "    .dataframe thead th {\n",
              "        text-align: right;\n",
              "    }\n",
              "</style>\n",
              "<table border=\"1\" class=\"dataframe\">\n",
              "  <thead>\n",
              "    <tr style=\"text-align: right;\">\n",
              "      <th></th>\n",
              "      <th>class_name</th>\n",
              "      <th>image_path</th>\n",
              "      <th>target</th>\n",
              "    </tr>\n",
              "  </thead>\n",
              "  <tbody>\n",
              "    <tr>\n",
              "      <th>0</th>\n",
              "      <td>n01872401</td>\n",
              "      <td>n01872401/sketch_50.JPEG</td>\n",
              "      <td>59</td>\n",
              "    </tr>\n",
              "    <tr>\n",
              "      <th>1</th>\n",
              "      <td>n02417914</td>\n",
              "      <td>n02417914/sketch_11.JPEG</td>\n",
              "      <td>202</td>\n",
              "    </tr>\n",
              "    <tr>\n",
              "      <th>2</th>\n",
              "      <td>n02106166</td>\n",
              "      <td>n02106166/sketch_3.JPEG</td>\n",
              "      <td>138</td>\n",
              "    </tr>\n",
              "  </tbody>\n",
              "</table>\n",
              "</div>"
            ],
            "text/plain": [
              "  class_name                image_path  target\n",
              "0  n01872401  n01872401/sketch_50.JPEG      59\n",
              "1  n02417914  n02417914/sketch_11.JPEG     202\n",
              "2  n02106166   n02106166/sketch_3.JPEG     138"
            ]
          },
          "execution_count": 3,
          "metadata": {},
          "output_type": "execute_result"
        }
      ],
      "source": [
        "device = torch.device(\"cuda\" if torch.cuda.is_available() else \"cpu\")\n",
        "train_base_dir = '/data/ephemeral/home/data/train'\n",
        "test_base_dir = '/data/ephemeral/home/data/test'\n",
        "\n",
        "\n",
        "traindata_info_file = \"/data/ephemeral/home/data/train.csv\"\n",
        "\n",
        "testdata_info_file = \"/data/ephemeral/home/data/test.csv\"\n",
        "\n",
        "train_data = pd.read_csv(traindata_info_file)\n",
        "\n",
        "test_data = pd.read_csv(testdata_info_file)\n",
        "\n",
        "x = train_data['image_path']\n",
        "y = train_data['target']\n",
        "\n",
        "train_data.head(3)"
      ]
    },
    {
      "cell_type": "code",
      "execution_count": null,
      "metadata": {
        "id": "-u1K7OV2FFqP"
      },
      "outputs": [],
      "source": [
        "class Train():\n",
        "    def __init__(self, model, device, train_loader, val_loader, epochs, optimizer, criterion, scheduler,\n",
        "                 early_stop = False, patience_limit = None, best_val_loss = float('inf'), best_model = None):\n",
        "        self.model = model\n",
        "        self.device = device\n",
        "        self.train_loader = train_loader\n",
        "        self.val_loader = val_loader\n",
        "        self.epochs = epochs\n",
        "        self.optimizer = optimizer\n",
        "        self.criterion = criterion\n",
        "        self.scheduler = scheduler\n",
        "        self.early_stop = early_stop\n",
        "        self.patience_limit = patience_limit\n",
        "        self.best_val_loss = best_val_loss\n",
        "        self.best_model = best_model\n",
        "\n",
        "    def train(self):\n",
        "        patience_check = 0\n",
        "        self.model.to(self.device)\n",
        "        for epoch in range(self.epochs):\n",
        "            running_loss = 0.0\n",
        "\n",
        "            # 모델 학습\n",
        "            torch.cuda.empty_cache()\n",
        "            self.model.train()\n",
        "            for idx, (images, labels) in enumerate(tqdm(self.train_loader, desc=f\"Epoch {epoch+1}/{self.epochs}\")):\n",
        "                images, labels = images.to(self.device), labels.to(self.device)\n",
        "\n",
        "                outputs = self.model(images)\n",
        "\n",
        "                loss = self.criterion(outputs, labels)\n",
        "\n",
        "                self.optimizer.zero_grad()\n",
        "                loss.backward()\n",
        "                self.optimizer.step()\n",
        "\n",
        "                running_loss += loss.item()\n",
        "\n",
        "            train_loss = running_loss / len(self.train_loader)\n",
        "\n",
        "            # 모델 평가\n",
        "            torch.cuda.empty_cache()\n",
        "            self.model.eval()\n",
        "            correct = 0\n",
        "            total = 0\n",
        "            running_val_loss = 0.0\n",
        "            with torch.no_grad():\n",
        "                for inputs, labels in self.val_loader:\n",
        "                    inputs, labels = inputs.to(self.device), labels.to(self.device)\n",
        "\n",
        "                    outputs = self.model(inputs)\n",
        "                    loss = self.criterion(outputs, labels)\n",
        "                    running_val_loss += loss.item()\n",
        "                    _, pred = torch.max(outputs, 1)\n",
        "\n",
        "                    total += labels.size(0)\n",
        "                    correct += (pred == labels).sum().item()\n",
        "\n",
        "                accuracy = 100 * correct / total\n",
        "                val_loss = running_val_loss / len(self.val_loader)\n",
        "\n",
        "            print(f'Epoch {epoch + 1}/{self.epochs}, Train_Loss: {train_loss:.4f}, Test_Loss: {val_loss:.4f}, Accuracy: {accuracy:.2f}%')\n",
        "\n",
        "            if self.best_val_loss > val_loss:\n",
        "                self.best_val_loss = val_loss\n",
        "                self.best_model = self.model.state_dict()\n",
        "                torch.save(self.model.state_dict(), '/data/ephemeral/home/jb_train_result/Clip_lr.pt')\n",
        "\n",
        "            # 조기 종료\n",
        "            if self.early_stop and self.patience_limit is not None:\n",
        "                if val_loss > self.best_val_loss:\n",
        "                    patience_check += 1\n",
        "                    if patience_check >= self.patience_limit:\n",
        "                        break\n",
        "                else:\n",
        "                    self.best_val_loss = val_loss\n",
        "                    patience_check = 0\n",
        "                    torch.save(self.model.state_dict(), '/data/ephemeral/home/jb_train_result/Clip_lr.pt')\n",
        "\n",
        "            self.scheduler.step(val_loss)"
      ]
    },
    {
      "cell_type": "code",
      "execution_count": null,
      "metadata": {
        "id": "3n0pcMNxFFqQ"
      },
      "outputs": [],
      "source": [
        "transform = A.Compose([\n",
        "        A.Resize(224,224),\n",
        "        A.Normalize(mean=(0.485, 0.456, 0.406), std=(0.229, 0.224, 0.225)),\n",
        "        ToTensorV2()\n",
        "    ])"
      ]
    },
    {
      "cell_type": "code",
      "execution_count": null,
      "metadata": {
        "id": "VXfZASGyFFqQ"
      },
      "outputs": [],
      "source": [
        "def fill_white(img):\n",
        "    img_np = np.array(img)\n",
        "\n",
        "    # 각 채널에 대해 Canny 엣지 검출 적용\n",
        "    edges_r = cv2.Canny(img_np[:, :, 0], 50, 150)\n",
        "    edges_g = cv2.Canny(img_np[:, :, 1], 50, 150)\n",
        "    edges_b = cv2.Canny(img_np[:, :, 2], 50, 150)\n",
        "\n",
        "    # 세 채널의 엣지를 결합하여 하나의 이미지로 생성\n",
        "    edges_combined = np.maximum(np.maximum(edges_r, edges_g), edges_b)\n",
        "\n",
        "    # 모폴로지 연산을 위한 커널 생성\n",
        "    kernel = np.ones((3, 3), np.uint8)\n",
        "    # 엣지 이미지를 닫기 위한 모폴로지 연산 적용\n",
        "    closed_edges = cv2.morphologyEx(edges_combined, cv2.MORPH_CLOSE, kernel)\n",
        "\n",
        "    filled_image_rgb = cv2.cvtColor(closed_edges, cv2.COLOR_GRAY2RGB)\n",
        "\n",
        "    inverted_edges = cv2.bitwise_not(closed_edges)\n",
        "\n",
        "    # 흰색 배경 이미지 생성\n",
        "    filled_image_rgb = np.full_like(img_np, 255)\n",
        "    # 배경이 흰색인 상태에서 검은색 선을 포함한 inverted_edges를 복사\n",
        "    filled_image_rgb[inverted_edges == 0] = [0, 0, 0]\n",
        "\n",
        "    transform = A.Compose([\n",
        "        A.Affine(scale=(0.5, 1.5), p=0.5),\n",
        "        A.CoarseDropout(max_holes=4, max_height=30, max_width=30, fill_value=255, p=0.5),\n",
        "        A.HorizontalFlip(p=0.5),\n",
        "        A.LongestMaxSize(256),\n",
        "        A.PadIfNeeded(256, 256, border_mode=cv2.BORDER_CONSTANT, value=(255, 255, 255)),\n",
        "        A.RandomCrop(224, 224,p=1.0),\n",
        "        A.Normalize(mean=(0.485, 0.456, 0.406), std=(0.229, 0.224, 0.225)),\n",
        "        ToTensorV2()\n",
        "    ])\n",
        "\n",
        "    transformed = transform(image=filled_image_rgb)\n",
        "\n",
        "    return transformed['image']\n"
      ]
    },
    {
      "cell_type": "code",
      "execution_count": null,
      "metadata": {
        "id": "7Ic8V8bqFFqQ"
      },
      "outputs": [],
      "source": [
        "class CustomDataset(Dataset):\n",
        "    def __init__(self, image_paths, labels, is_aug = False):\n",
        "        self.image_paths = image_paths\n",
        "        self.labels = labels\n",
        "        self.is_aug = is_aug\n",
        "\n",
        "    def __len__(self):\n",
        "        return len(self.image_paths)\n",
        "\n",
        "    def __getitem__(self, idx):\n",
        "        image_path = self.image_paths[idx]\n",
        "        image = Image.open(os.path.join(train_base_dir, image_path)).convert('RGB')\n",
        "        if not self.is_aug:\n",
        "            image = np.array(image)\n",
        "            image = transform(image=image)['image']\n",
        "        else:\n",
        "            image = fill_white(image)\n",
        "\n",
        "        label = torch.tensor(self.labels[idx], dtype=torch.long)\n",
        "        return image, label"
      ]
    },
    {
      "cell_type": "code",
      "execution_count": null,
      "metadata": {
        "id": "8tqD8L8ZFFqR"
      },
      "outputs": [],
      "source": [
        "x_train = []\n",
        "y_train = []\n",
        "for i in range(len(train_data)):\n",
        "    x_train.append(os.path.join(train_base_dir, train_data['image_path'].iloc[i]))\n",
        "    y_train.append(train_data['target'].iloc[i])"
      ]
    },
    {
      "cell_type": "code",
      "execution_count": null,
      "metadata": {
        "id": "lOHU1fh9FFqR",
        "outputId": "f685b710-3227-4a4c-d4e3-7eeae78af642"
      },
      "outputs": [
        {
          "name": "stdout",
          "output_type": "stream",
          "text": [
            "15021\n",
            "12016\n",
            "3005\n"
          ]
        }
      ],
      "source": [
        "x_train, x_val, y_train, y_val = train_test_split(x_train, y_train, test_size = 0.2, stratify= y_train, random_state = 42)\n",
        "\n",
        "print(len(train_data))\n",
        "print(len(x_train))\n",
        "print(len(x_val))"
      ]
    },
    {
      "cell_type": "code",
      "execution_count": null,
      "metadata": {
        "id": "Ds__pgKUFFqR",
        "outputId": "97dbde7d-e332-46ac-ce3a-9d118521b350"
      },
      "outputs": [
        {
          "name": "stdout",
          "output_type": "stream",
          "text": [
            "12016\n",
            "12016\n",
            "3005\n",
            "24032\n"
          ]
        }
      ],
      "source": [
        "train_dataset = CustomDataset(x_train, y_train, is_aug = False)\n",
        "aug_dataset = CustomDataset(x_train, y_train, is_aug = True)\n",
        "val_dataset = CustomDataset(x_val, y_val, is_aug = False)\n",
        "\n",
        "print(len(train_dataset))\n",
        "print(len(aug_dataset))\n",
        "print(len(val_dataset))\n",
        "\n",
        "dataset = ConcatDataset([train_dataset, aug_dataset])\n",
        "print(len(dataset))"
      ]
    },
    {
      "cell_type": "code",
      "execution_count": null,
      "metadata": {
        "id": "bLAmrdUlFFqS"
      },
      "outputs": [],
      "source": [
        "train_loader = DataLoader(dataset, 64, num_workers=4, shuffle=True)\n",
        "val_loader = DataLoader(val_dataset, 64, num_workers=2, shuffle=False)"
      ]
    },
    {
      "cell_type": "code",
      "execution_count": null,
      "metadata": {
        "id": "p_RWQIOxFFqS"
      },
      "outputs": [],
      "source": [
        "from transformers import CLIPModel\n",
        "\n",
        "clip = CLIPModel.from_pretrained(\"openai/clip-vit-large-patch14\")\n",
        "image_encoder = clip.vision_model\n",
        "\n",
        "class Clip(nn.Module):\n",
        "    def __init__(self, image_encoder):\n",
        "        super(Clip, self).__init__()\n",
        "        self.clip = image_encoder\n",
        "        self.mlp = nn.Sequential(\n",
        "            nn.Linear(1024, 256),\n",
        "            nn.BatchNorm1d(256),\n",
        "            nn.ReLU(),\n",
        "            nn.Dropout(0.5),\n",
        "            nn.Linear(256, 500)\n",
        "        )\n",
        "\n",
        "    def forward(self, images):\n",
        "        image_features = self.clip(images).last_hidden_state\n",
        "\n",
        "        y = self.mlp(image_features[:, 0, :])\n",
        "        return y\n"
      ]
    },
    {
      "cell_type": "code",
      "execution_count": null,
      "metadata": {
        "id": "2teh8vH9FFqS"
      },
      "outputs": [],
      "source": [
        "def freeze(model):\n",
        "    cnt=0\n",
        "    for param in model.parameters():\n",
        "        if cnt > 390:\n",
        "            param.requires_grad=True\n",
        "        else:\n",
        "            param.requires_grad = False\n",
        "        cnt+=1"
      ]
    },
    {
      "cell_type": "code",
      "execution_count": null,
      "metadata": {
        "id": "fDZ8BbjzFFqS"
      },
      "outputs": [],
      "source": [
        "model = Clip(image_encoder)\n",
        "freeze(model)"
      ]
    },
    {
      "cell_type": "code",
      "execution_count": null,
      "metadata": {
        "id": "RQesh775FFqT",
        "outputId": "be3dc730-5742-4626-feba-c1bd7781dd4e"
      },
      "outputs": [
        {
          "name": "stdout",
          "output_type": "stream",
          "text": [
            "clip.embeddings.class_embedding: requires_grad=False\n",
            "clip.embeddings.patch_embedding.weight: requires_grad=False\n",
            "clip.embeddings.position_embedding.weight: requires_grad=False\n",
            "clip.pre_layrnorm.weight: requires_grad=False\n",
            "clip.pre_layrnorm.bias: requires_grad=False\n",
            "clip.encoder.layers.0.self_attn.k_proj.weight: requires_grad=False\n",
            "clip.encoder.layers.0.self_attn.k_proj.bias: requires_grad=False\n",
            "clip.encoder.layers.0.self_attn.v_proj.weight: requires_grad=False\n",
            "clip.encoder.layers.0.self_attn.v_proj.bias: requires_grad=False\n",
            "clip.encoder.layers.0.self_attn.q_proj.weight: requires_grad=False\n",
            "clip.encoder.layers.0.self_attn.q_proj.bias: requires_grad=False\n",
            "clip.encoder.layers.0.self_attn.out_proj.weight: requires_grad=False\n",
            "clip.encoder.layers.0.self_attn.out_proj.bias: requires_grad=False\n",
            "clip.encoder.layers.0.layer_norm1.weight: requires_grad=False\n",
            "clip.encoder.layers.0.layer_norm1.bias: requires_grad=False\n",
            "clip.encoder.layers.0.mlp.fc1.weight: requires_grad=False\n",
            "clip.encoder.layers.0.mlp.fc1.bias: requires_grad=False\n",
            "clip.encoder.layers.0.mlp.fc2.weight: requires_grad=False\n",
            "clip.encoder.layers.0.mlp.fc2.bias: requires_grad=False\n",
            "clip.encoder.layers.0.layer_norm2.weight: requires_grad=False\n",
            "clip.encoder.layers.0.layer_norm2.bias: requires_grad=False\n",
            "clip.encoder.layers.1.self_attn.k_proj.weight: requires_grad=False\n",
            "clip.encoder.layers.1.self_attn.k_proj.bias: requires_grad=False\n",
            "clip.encoder.layers.1.self_attn.v_proj.weight: requires_grad=False\n",
            "clip.encoder.layers.1.self_attn.v_proj.bias: requires_grad=False\n",
            "clip.encoder.layers.1.self_attn.q_proj.weight: requires_grad=False\n",
            "clip.encoder.layers.1.self_attn.q_proj.bias: requires_grad=False\n",
            "clip.encoder.layers.1.self_attn.out_proj.weight: requires_grad=False\n",
            "clip.encoder.layers.1.self_attn.out_proj.bias: requires_grad=False\n",
            "clip.encoder.layers.1.layer_norm1.weight: requires_grad=False\n",
            "clip.encoder.layers.1.layer_norm1.bias: requires_grad=False\n",
            "clip.encoder.layers.1.mlp.fc1.weight: requires_grad=False\n",
            "clip.encoder.layers.1.mlp.fc1.bias: requires_grad=False\n",
            "clip.encoder.layers.1.mlp.fc2.weight: requires_grad=False\n",
            "clip.encoder.layers.1.mlp.fc2.bias: requires_grad=False\n",
            "clip.encoder.layers.1.layer_norm2.weight: requires_grad=False\n",
            "clip.encoder.layers.1.layer_norm2.bias: requires_grad=False\n",
            "clip.encoder.layers.2.self_attn.k_proj.weight: requires_grad=False\n",
            "clip.encoder.layers.2.self_attn.k_proj.bias: requires_grad=False\n",
            "clip.encoder.layers.2.self_attn.v_proj.weight: requires_grad=False\n",
            "clip.encoder.layers.2.self_attn.v_proj.bias: requires_grad=False\n",
            "clip.encoder.layers.2.self_attn.q_proj.weight: requires_grad=False\n",
            "clip.encoder.layers.2.self_attn.q_proj.bias: requires_grad=False\n",
            "clip.encoder.layers.2.self_attn.out_proj.weight: requires_grad=False\n",
            "clip.encoder.layers.2.self_attn.out_proj.bias: requires_grad=False\n",
            "clip.encoder.layers.2.layer_norm1.weight: requires_grad=False\n",
            "clip.encoder.layers.2.layer_norm1.bias: requires_grad=False\n",
            "clip.encoder.layers.2.mlp.fc1.weight: requires_grad=False\n",
            "clip.encoder.layers.2.mlp.fc1.bias: requires_grad=False\n",
            "clip.encoder.layers.2.mlp.fc2.weight: requires_grad=False\n",
            "clip.encoder.layers.2.mlp.fc2.bias: requires_grad=False\n",
            "clip.encoder.layers.2.layer_norm2.weight: requires_grad=False\n",
            "clip.encoder.layers.2.layer_norm2.bias: requires_grad=False\n",
            "clip.encoder.layers.3.self_attn.k_proj.weight: requires_grad=False\n",
            "clip.encoder.layers.3.self_attn.k_proj.bias: requires_grad=False\n",
            "clip.encoder.layers.3.self_attn.v_proj.weight: requires_grad=False\n",
            "clip.encoder.layers.3.self_attn.v_proj.bias: requires_grad=False\n",
            "clip.encoder.layers.3.self_attn.q_proj.weight: requires_grad=False\n",
            "clip.encoder.layers.3.self_attn.q_proj.bias: requires_grad=False\n",
            "clip.encoder.layers.3.self_attn.out_proj.weight: requires_grad=False\n",
            "clip.encoder.layers.3.self_attn.out_proj.bias: requires_grad=False\n",
            "clip.encoder.layers.3.layer_norm1.weight: requires_grad=False\n",
            "clip.encoder.layers.3.layer_norm1.bias: requires_grad=False\n",
            "clip.encoder.layers.3.mlp.fc1.weight: requires_grad=False\n",
            "clip.encoder.layers.3.mlp.fc1.bias: requires_grad=False\n",
            "clip.encoder.layers.3.mlp.fc2.weight: requires_grad=False\n",
            "clip.encoder.layers.3.mlp.fc2.bias: requires_grad=False\n",
            "clip.encoder.layers.3.layer_norm2.weight: requires_grad=False\n",
            "clip.encoder.layers.3.layer_norm2.bias: requires_grad=False\n",
            "clip.encoder.layers.4.self_attn.k_proj.weight: requires_grad=False\n",
            "clip.encoder.layers.4.self_attn.k_proj.bias: requires_grad=False\n",
            "clip.encoder.layers.4.self_attn.v_proj.weight: requires_grad=False\n",
            "clip.encoder.layers.4.self_attn.v_proj.bias: requires_grad=False\n",
            "clip.encoder.layers.4.self_attn.q_proj.weight: requires_grad=False\n",
            "clip.encoder.layers.4.self_attn.q_proj.bias: requires_grad=False\n",
            "clip.encoder.layers.4.self_attn.out_proj.weight: requires_grad=False\n",
            "clip.encoder.layers.4.self_attn.out_proj.bias: requires_grad=False\n",
            "clip.encoder.layers.4.layer_norm1.weight: requires_grad=False\n",
            "clip.encoder.layers.4.layer_norm1.bias: requires_grad=False\n",
            "clip.encoder.layers.4.mlp.fc1.weight: requires_grad=False\n",
            "clip.encoder.layers.4.mlp.fc1.bias: requires_grad=False\n",
            "clip.encoder.layers.4.mlp.fc2.weight: requires_grad=False\n",
            "clip.encoder.layers.4.mlp.fc2.bias: requires_grad=False\n",
            "clip.encoder.layers.4.layer_norm2.weight: requires_grad=False\n",
            "clip.encoder.layers.4.layer_norm2.bias: requires_grad=False\n",
            "clip.encoder.layers.5.self_attn.k_proj.weight: requires_grad=False\n",
            "clip.encoder.layers.5.self_attn.k_proj.bias: requires_grad=False\n",
            "clip.encoder.layers.5.self_attn.v_proj.weight: requires_grad=False\n",
            "clip.encoder.layers.5.self_attn.v_proj.bias: requires_grad=False\n",
            "clip.encoder.layers.5.self_attn.q_proj.weight: requires_grad=False\n",
            "clip.encoder.layers.5.self_attn.q_proj.bias: requires_grad=False\n",
            "clip.encoder.layers.5.self_attn.out_proj.weight: requires_grad=False\n",
            "clip.encoder.layers.5.self_attn.out_proj.bias: requires_grad=False\n",
            "clip.encoder.layers.5.layer_norm1.weight: requires_grad=False\n",
            "clip.encoder.layers.5.layer_norm1.bias: requires_grad=False\n",
            "clip.encoder.layers.5.mlp.fc1.weight: requires_grad=False\n",
            "clip.encoder.layers.5.mlp.fc1.bias: requires_grad=False\n",
            "clip.encoder.layers.5.mlp.fc2.weight: requires_grad=False\n",
            "clip.encoder.layers.5.mlp.fc2.bias: requires_grad=False\n",
            "clip.encoder.layers.5.layer_norm2.weight: requires_grad=False\n",
            "clip.encoder.layers.5.layer_norm2.bias: requires_grad=False\n",
            "clip.encoder.layers.6.self_attn.k_proj.weight: requires_grad=False\n",
            "clip.encoder.layers.6.self_attn.k_proj.bias: requires_grad=False\n",
            "clip.encoder.layers.6.self_attn.v_proj.weight: requires_grad=False\n",
            "clip.encoder.layers.6.self_attn.v_proj.bias: requires_grad=False\n",
            "clip.encoder.layers.6.self_attn.q_proj.weight: requires_grad=False\n",
            "clip.encoder.layers.6.self_attn.q_proj.bias: requires_grad=False\n",
            "clip.encoder.layers.6.self_attn.out_proj.weight: requires_grad=False\n",
            "clip.encoder.layers.6.self_attn.out_proj.bias: requires_grad=False\n",
            "clip.encoder.layers.6.layer_norm1.weight: requires_grad=False\n",
            "clip.encoder.layers.6.layer_norm1.bias: requires_grad=False\n",
            "clip.encoder.layers.6.mlp.fc1.weight: requires_grad=False\n",
            "clip.encoder.layers.6.mlp.fc1.bias: requires_grad=False\n",
            "clip.encoder.layers.6.mlp.fc2.weight: requires_grad=False\n",
            "clip.encoder.layers.6.mlp.fc2.bias: requires_grad=False\n",
            "clip.encoder.layers.6.layer_norm2.weight: requires_grad=False\n",
            "clip.encoder.layers.6.layer_norm2.bias: requires_grad=False\n",
            "clip.encoder.layers.7.self_attn.k_proj.weight: requires_grad=False\n",
            "clip.encoder.layers.7.self_attn.k_proj.bias: requires_grad=False\n",
            "clip.encoder.layers.7.self_attn.v_proj.weight: requires_grad=False\n",
            "clip.encoder.layers.7.self_attn.v_proj.bias: requires_grad=False\n",
            "clip.encoder.layers.7.self_attn.q_proj.weight: requires_grad=False\n",
            "clip.encoder.layers.7.self_attn.q_proj.bias: requires_grad=False\n",
            "clip.encoder.layers.7.self_attn.out_proj.weight: requires_grad=False\n",
            "clip.encoder.layers.7.self_attn.out_proj.bias: requires_grad=False\n",
            "clip.encoder.layers.7.layer_norm1.weight: requires_grad=False\n",
            "clip.encoder.layers.7.layer_norm1.bias: requires_grad=False\n",
            "clip.encoder.layers.7.mlp.fc1.weight: requires_grad=False\n",
            "clip.encoder.layers.7.mlp.fc1.bias: requires_grad=False\n",
            "clip.encoder.layers.7.mlp.fc2.weight: requires_grad=False\n",
            "clip.encoder.layers.7.mlp.fc2.bias: requires_grad=False\n",
            "clip.encoder.layers.7.layer_norm2.weight: requires_grad=False\n",
            "clip.encoder.layers.7.layer_norm2.bias: requires_grad=False\n",
            "clip.encoder.layers.8.self_attn.k_proj.weight: requires_grad=False\n",
            "clip.encoder.layers.8.self_attn.k_proj.bias: requires_grad=False\n",
            "clip.encoder.layers.8.self_attn.v_proj.weight: requires_grad=False\n",
            "clip.encoder.layers.8.self_attn.v_proj.bias: requires_grad=False\n",
            "clip.encoder.layers.8.self_attn.q_proj.weight: requires_grad=False\n",
            "clip.encoder.layers.8.self_attn.q_proj.bias: requires_grad=False\n",
            "clip.encoder.layers.8.self_attn.out_proj.weight: requires_grad=False\n",
            "clip.encoder.layers.8.self_attn.out_proj.bias: requires_grad=False\n",
            "clip.encoder.layers.8.layer_norm1.weight: requires_grad=False\n",
            "clip.encoder.layers.8.layer_norm1.bias: requires_grad=False\n",
            "clip.encoder.layers.8.mlp.fc1.weight: requires_grad=False\n",
            "clip.encoder.layers.8.mlp.fc1.bias: requires_grad=False\n",
            "clip.encoder.layers.8.mlp.fc2.weight: requires_grad=False\n",
            "clip.encoder.layers.8.mlp.fc2.bias: requires_grad=False\n",
            "clip.encoder.layers.8.layer_norm2.weight: requires_grad=False\n",
            "clip.encoder.layers.8.layer_norm2.bias: requires_grad=False\n",
            "clip.encoder.layers.9.self_attn.k_proj.weight: requires_grad=False\n",
            "clip.encoder.layers.9.self_attn.k_proj.bias: requires_grad=False\n",
            "clip.encoder.layers.9.self_attn.v_proj.weight: requires_grad=False\n",
            "clip.encoder.layers.9.self_attn.v_proj.bias: requires_grad=False\n",
            "clip.encoder.layers.9.self_attn.q_proj.weight: requires_grad=False\n",
            "clip.encoder.layers.9.self_attn.q_proj.bias: requires_grad=False\n",
            "clip.encoder.layers.9.self_attn.out_proj.weight: requires_grad=False\n",
            "clip.encoder.layers.9.self_attn.out_proj.bias: requires_grad=False\n",
            "clip.encoder.layers.9.layer_norm1.weight: requires_grad=False\n",
            "clip.encoder.layers.9.layer_norm1.bias: requires_grad=False\n",
            "clip.encoder.layers.9.mlp.fc1.weight: requires_grad=False\n",
            "clip.encoder.layers.9.mlp.fc1.bias: requires_grad=False\n",
            "clip.encoder.layers.9.mlp.fc2.weight: requires_grad=False\n",
            "clip.encoder.layers.9.mlp.fc2.bias: requires_grad=False\n",
            "clip.encoder.layers.9.layer_norm2.weight: requires_grad=False\n",
            "clip.encoder.layers.9.layer_norm2.bias: requires_grad=False\n",
            "clip.encoder.layers.10.self_attn.k_proj.weight: requires_grad=False\n",
            "clip.encoder.layers.10.self_attn.k_proj.bias: requires_grad=False\n",
            "clip.encoder.layers.10.self_attn.v_proj.weight: requires_grad=False\n",
            "clip.encoder.layers.10.self_attn.v_proj.bias: requires_grad=False\n",
            "clip.encoder.layers.10.self_attn.q_proj.weight: requires_grad=False\n",
            "clip.encoder.layers.10.self_attn.q_proj.bias: requires_grad=False\n",
            "clip.encoder.layers.10.self_attn.out_proj.weight: requires_grad=False\n",
            "clip.encoder.layers.10.self_attn.out_proj.bias: requires_grad=False\n",
            "clip.encoder.layers.10.layer_norm1.weight: requires_grad=False\n",
            "clip.encoder.layers.10.layer_norm1.bias: requires_grad=False\n",
            "clip.encoder.layers.10.mlp.fc1.weight: requires_grad=False\n",
            "clip.encoder.layers.10.mlp.fc1.bias: requires_grad=False\n",
            "clip.encoder.layers.10.mlp.fc2.weight: requires_grad=False\n",
            "clip.encoder.layers.10.mlp.fc2.bias: requires_grad=False\n",
            "clip.encoder.layers.10.layer_norm2.weight: requires_grad=False\n",
            "clip.encoder.layers.10.layer_norm2.bias: requires_grad=False\n",
            "clip.encoder.layers.11.self_attn.k_proj.weight: requires_grad=False\n",
            "clip.encoder.layers.11.self_attn.k_proj.bias: requires_grad=False\n",
            "clip.encoder.layers.11.self_attn.v_proj.weight: requires_grad=False\n",
            "clip.encoder.layers.11.self_attn.v_proj.bias: requires_grad=False\n",
            "clip.encoder.layers.11.self_attn.q_proj.weight: requires_grad=False\n",
            "clip.encoder.layers.11.self_attn.q_proj.bias: requires_grad=False\n",
            "clip.encoder.layers.11.self_attn.out_proj.weight: requires_grad=False\n",
            "clip.encoder.layers.11.self_attn.out_proj.bias: requires_grad=False\n",
            "clip.encoder.layers.11.layer_norm1.weight: requires_grad=False\n",
            "clip.encoder.layers.11.layer_norm1.bias: requires_grad=False\n",
            "clip.encoder.layers.11.mlp.fc1.weight: requires_grad=False\n",
            "clip.encoder.layers.11.mlp.fc1.bias: requires_grad=False\n",
            "clip.encoder.layers.11.mlp.fc2.weight: requires_grad=False\n",
            "clip.encoder.layers.11.mlp.fc2.bias: requires_grad=False\n",
            "clip.encoder.layers.11.layer_norm2.weight: requires_grad=False\n",
            "clip.encoder.layers.11.layer_norm2.bias: requires_grad=False\n",
            "clip.encoder.layers.12.self_attn.k_proj.weight: requires_grad=False\n",
            "clip.encoder.layers.12.self_attn.k_proj.bias: requires_grad=False\n",
            "clip.encoder.layers.12.self_attn.v_proj.weight: requires_grad=False\n",
            "clip.encoder.layers.12.self_attn.v_proj.bias: requires_grad=False\n",
            "clip.encoder.layers.12.self_attn.q_proj.weight: requires_grad=False\n",
            "clip.encoder.layers.12.self_attn.q_proj.bias: requires_grad=False\n",
            "clip.encoder.layers.12.self_attn.out_proj.weight: requires_grad=False\n",
            "clip.encoder.layers.12.self_attn.out_proj.bias: requires_grad=False\n",
            "clip.encoder.layers.12.layer_norm1.weight: requires_grad=False\n",
            "clip.encoder.layers.12.layer_norm1.bias: requires_grad=False\n",
            "clip.encoder.layers.12.mlp.fc1.weight: requires_grad=False\n",
            "clip.encoder.layers.12.mlp.fc1.bias: requires_grad=False\n",
            "clip.encoder.layers.12.mlp.fc2.weight: requires_grad=False\n",
            "clip.encoder.layers.12.mlp.fc2.bias: requires_grad=False\n",
            "clip.encoder.layers.12.layer_norm2.weight: requires_grad=False\n",
            "clip.encoder.layers.12.layer_norm2.bias: requires_grad=False\n",
            "clip.encoder.layers.13.self_attn.k_proj.weight: requires_grad=False\n",
            "clip.encoder.layers.13.self_attn.k_proj.bias: requires_grad=False\n",
            "clip.encoder.layers.13.self_attn.v_proj.weight: requires_grad=False\n",
            "clip.encoder.layers.13.self_attn.v_proj.bias: requires_grad=False\n",
            "clip.encoder.layers.13.self_attn.q_proj.weight: requires_grad=False\n",
            "clip.encoder.layers.13.self_attn.q_proj.bias: requires_grad=False\n",
            "clip.encoder.layers.13.self_attn.out_proj.weight: requires_grad=False\n",
            "clip.encoder.layers.13.self_attn.out_proj.bias: requires_grad=False\n",
            "clip.encoder.layers.13.layer_norm1.weight: requires_grad=False\n",
            "clip.encoder.layers.13.layer_norm1.bias: requires_grad=False\n",
            "clip.encoder.layers.13.mlp.fc1.weight: requires_grad=False\n",
            "clip.encoder.layers.13.mlp.fc1.bias: requires_grad=False\n",
            "clip.encoder.layers.13.mlp.fc2.weight: requires_grad=False\n",
            "clip.encoder.layers.13.mlp.fc2.bias: requires_grad=False\n",
            "clip.encoder.layers.13.layer_norm2.weight: requires_grad=False\n",
            "clip.encoder.layers.13.layer_norm2.bias: requires_grad=False\n",
            "clip.encoder.layers.14.self_attn.k_proj.weight: requires_grad=False\n",
            "clip.encoder.layers.14.self_attn.k_proj.bias: requires_grad=False\n",
            "clip.encoder.layers.14.self_attn.v_proj.weight: requires_grad=False\n",
            "clip.encoder.layers.14.self_attn.v_proj.bias: requires_grad=False\n",
            "clip.encoder.layers.14.self_attn.q_proj.weight: requires_grad=False\n",
            "clip.encoder.layers.14.self_attn.q_proj.bias: requires_grad=False\n",
            "clip.encoder.layers.14.self_attn.out_proj.weight: requires_grad=False\n",
            "clip.encoder.layers.14.self_attn.out_proj.bias: requires_grad=False\n",
            "clip.encoder.layers.14.layer_norm1.weight: requires_grad=False\n",
            "clip.encoder.layers.14.layer_norm1.bias: requires_grad=False\n",
            "clip.encoder.layers.14.mlp.fc1.weight: requires_grad=False\n",
            "clip.encoder.layers.14.mlp.fc1.bias: requires_grad=False\n",
            "clip.encoder.layers.14.mlp.fc2.weight: requires_grad=False\n",
            "clip.encoder.layers.14.mlp.fc2.bias: requires_grad=False\n",
            "clip.encoder.layers.14.layer_norm2.weight: requires_grad=False\n",
            "clip.encoder.layers.14.layer_norm2.bias: requires_grad=False\n",
            "clip.encoder.layers.15.self_attn.k_proj.weight: requires_grad=False\n",
            "clip.encoder.layers.15.self_attn.k_proj.bias: requires_grad=False\n",
            "clip.encoder.layers.15.self_attn.v_proj.weight: requires_grad=False\n",
            "clip.encoder.layers.15.self_attn.v_proj.bias: requires_grad=False\n",
            "clip.encoder.layers.15.self_attn.q_proj.weight: requires_grad=False\n",
            "clip.encoder.layers.15.self_attn.q_proj.bias: requires_grad=False\n",
            "clip.encoder.layers.15.self_attn.out_proj.weight: requires_grad=False\n",
            "clip.encoder.layers.15.self_attn.out_proj.bias: requires_grad=False\n",
            "clip.encoder.layers.15.layer_norm1.weight: requires_grad=False\n",
            "clip.encoder.layers.15.layer_norm1.bias: requires_grad=False\n",
            "clip.encoder.layers.15.mlp.fc1.weight: requires_grad=False\n",
            "clip.encoder.layers.15.mlp.fc1.bias: requires_grad=False\n",
            "clip.encoder.layers.15.mlp.fc2.weight: requires_grad=False\n",
            "clip.encoder.layers.15.mlp.fc2.bias: requires_grad=False\n",
            "clip.encoder.layers.15.layer_norm2.weight: requires_grad=False\n",
            "clip.encoder.layers.15.layer_norm2.bias: requires_grad=False\n",
            "clip.encoder.layers.16.self_attn.k_proj.weight: requires_grad=False\n",
            "clip.encoder.layers.16.self_attn.k_proj.bias: requires_grad=False\n",
            "clip.encoder.layers.16.self_attn.v_proj.weight: requires_grad=False\n",
            "clip.encoder.layers.16.self_attn.v_proj.bias: requires_grad=False\n",
            "clip.encoder.layers.16.self_attn.q_proj.weight: requires_grad=False\n",
            "clip.encoder.layers.16.self_attn.q_proj.bias: requires_grad=False\n",
            "clip.encoder.layers.16.self_attn.out_proj.weight: requires_grad=False\n",
            "clip.encoder.layers.16.self_attn.out_proj.bias: requires_grad=False\n",
            "clip.encoder.layers.16.layer_norm1.weight: requires_grad=False\n",
            "clip.encoder.layers.16.layer_norm1.bias: requires_grad=False\n",
            "clip.encoder.layers.16.mlp.fc1.weight: requires_grad=False\n",
            "clip.encoder.layers.16.mlp.fc1.bias: requires_grad=False\n",
            "clip.encoder.layers.16.mlp.fc2.weight: requires_grad=False\n",
            "clip.encoder.layers.16.mlp.fc2.bias: requires_grad=False\n",
            "clip.encoder.layers.16.layer_norm2.weight: requires_grad=False\n",
            "clip.encoder.layers.16.layer_norm2.bias: requires_grad=False\n",
            "clip.encoder.layers.17.self_attn.k_proj.weight: requires_grad=False\n",
            "clip.encoder.layers.17.self_attn.k_proj.bias: requires_grad=False\n",
            "clip.encoder.layers.17.self_attn.v_proj.weight: requires_grad=False\n",
            "clip.encoder.layers.17.self_attn.v_proj.bias: requires_grad=False\n",
            "clip.encoder.layers.17.self_attn.q_proj.weight: requires_grad=False\n",
            "clip.encoder.layers.17.self_attn.q_proj.bias: requires_grad=False\n",
            "clip.encoder.layers.17.self_attn.out_proj.weight: requires_grad=False\n",
            "clip.encoder.layers.17.self_attn.out_proj.bias: requires_grad=False\n",
            "clip.encoder.layers.17.layer_norm1.weight: requires_grad=False\n",
            "clip.encoder.layers.17.layer_norm1.bias: requires_grad=False\n",
            "clip.encoder.layers.17.mlp.fc1.weight: requires_grad=False\n",
            "clip.encoder.layers.17.mlp.fc1.bias: requires_grad=False\n",
            "clip.encoder.layers.17.mlp.fc2.weight: requires_grad=False\n",
            "clip.encoder.layers.17.mlp.fc2.bias: requires_grad=False\n",
            "clip.encoder.layers.17.layer_norm2.weight: requires_grad=False\n",
            "clip.encoder.layers.17.layer_norm2.bias: requires_grad=False\n",
            "clip.encoder.layers.18.self_attn.k_proj.weight: requires_grad=False\n",
            "clip.encoder.layers.18.self_attn.k_proj.bias: requires_grad=False\n",
            "clip.encoder.layers.18.self_attn.v_proj.weight: requires_grad=False\n",
            "clip.encoder.layers.18.self_attn.v_proj.bias: requires_grad=False\n",
            "clip.encoder.layers.18.self_attn.q_proj.weight: requires_grad=False\n",
            "clip.encoder.layers.18.self_attn.q_proj.bias: requires_grad=False\n",
            "clip.encoder.layers.18.self_attn.out_proj.weight: requires_grad=False\n",
            "clip.encoder.layers.18.self_attn.out_proj.bias: requires_grad=False\n",
            "clip.encoder.layers.18.layer_norm1.weight: requires_grad=False\n",
            "clip.encoder.layers.18.layer_norm1.bias: requires_grad=False\n",
            "clip.encoder.layers.18.mlp.fc1.weight: requires_grad=False\n",
            "clip.encoder.layers.18.mlp.fc1.bias: requires_grad=False\n",
            "clip.encoder.layers.18.mlp.fc2.weight: requires_grad=False\n",
            "clip.encoder.layers.18.mlp.fc2.bias: requires_grad=False\n",
            "clip.encoder.layers.18.layer_norm2.weight: requires_grad=False\n",
            "clip.encoder.layers.18.layer_norm2.bias: requires_grad=False\n",
            "clip.encoder.layers.19.self_attn.k_proj.weight: requires_grad=False\n",
            "clip.encoder.layers.19.self_attn.k_proj.bias: requires_grad=False\n",
            "clip.encoder.layers.19.self_attn.v_proj.weight: requires_grad=False\n",
            "clip.encoder.layers.19.self_attn.v_proj.bias: requires_grad=False\n",
            "clip.encoder.layers.19.self_attn.q_proj.weight: requires_grad=False\n",
            "clip.encoder.layers.19.self_attn.q_proj.bias: requires_grad=False\n",
            "clip.encoder.layers.19.self_attn.out_proj.weight: requires_grad=False\n",
            "clip.encoder.layers.19.self_attn.out_proj.bias: requires_grad=False\n",
            "clip.encoder.layers.19.layer_norm1.weight: requires_grad=False\n",
            "clip.encoder.layers.19.layer_norm1.bias: requires_grad=False\n",
            "clip.encoder.layers.19.mlp.fc1.weight: requires_grad=False\n",
            "clip.encoder.layers.19.mlp.fc1.bias: requires_grad=False\n",
            "clip.encoder.layers.19.mlp.fc2.weight: requires_grad=False\n",
            "clip.encoder.layers.19.mlp.fc2.bias: requires_grad=False\n",
            "clip.encoder.layers.19.layer_norm2.weight: requires_grad=False\n",
            "clip.encoder.layers.19.layer_norm2.bias: requires_grad=False\n",
            "clip.encoder.layers.20.self_attn.k_proj.weight: requires_grad=False\n",
            "clip.encoder.layers.20.self_attn.k_proj.bias: requires_grad=False\n",
            "clip.encoder.layers.20.self_attn.v_proj.weight: requires_grad=False\n",
            "clip.encoder.layers.20.self_attn.v_proj.bias: requires_grad=False\n",
            "clip.encoder.layers.20.self_attn.q_proj.weight: requires_grad=False\n",
            "clip.encoder.layers.20.self_attn.q_proj.bias: requires_grad=False\n",
            "clip.encoder.layers.20.self_attn.out_proj.weight: requires_grad=False\n",
            "clip.encoder.layers.20.self_attn.out_proj.bias: requires_grad=False\n",
            "clip.encoder.layers.20.layer_norm1.weight: requires_grad=False\n",
            "clip.encoder.layers.20.layer_norm1.bias: requires_grad=False\n",
            "clip.encoder.layers.20.mlp.fc1.weight: requires_grad=False\n",
            "clip.encoder.layers.20.mlp.fc1.bias: requires_grad=False\n",
            "clip.encoder.layers.20.mlp.fc2.weight: requires_grad=False\n",
            "clip.encoder.layers.20.mlp.fc2.bias: requires_grad=False\n",
            "clip.encoder.layers.20.layer_norm2.weight: requires_grad=False\n",
            "clip.encoder.layers.20.layer_norm2.bias: requires_grad=False\n",
            "clip.encoder.layers.21.self_attn.k_proj.weight: requires_grad=False\n",
            "clip.encoder.layers.21.self_attn.k_proj.bias: requires_grad=False\n",
            "clip.encoder.layers.21.self_attn.v_proj.weight: requires_grad=False\n",
            "clip.encoder.layers.21.self_attn.v_proj.bias: requires_grad=False\n",
            "clip.encoder.layers.21.self_attn.q_proj.weight: requires_grad=False\n",
            "clip.encoder.layers.21.self_attn.q_proj.bias: requires_grad=False\n",
            "clip.encoder.layers.21.self_attn.out_proj.weight: requires_grad=False\n",
            "clip.encoder.layers.21.self_attn.out_proj.bias: requires_grad=False\n",
            "clip.encoder.layers.21.layer_norm1.weight: requires_grad=False\n",
            "clip.encoder.layers.21.layer_norm1.bias: requires_grad=False\n",
            "clip.encoder.layers.21.mlp.fc1.weight: requires_grad=False\n",
            "clip.encoder.layers.21.mlp.fc1.bias: requires_grad=False\n",
            "clip.encoder.layers.21.mlp.fc2.weight: requires_grad=False\n",
            "clip.encoder.layers.21.mlp.fc2.bias: requires_grad=False\n",
            "clip.encoder.layers.21.layer_norm2.weight: requires_grad=False\n",
            "clip.encoder.layers.21.layer_norm2.bias: requires_grad=False\n",
            "clip.encoder.layers.22.self_attn.k_proj.weight: requires_grad=False\n",
            "clip.encoder.layers.22.self_attn.k_proj.bias: requires_grad=False\n",
            "clip.encoder.layers.22.self_attn.v_proj.weight: requires_grad=False\n",
            "clip.encoder.layers.22.self_attn.v_proj.bias: requires_grad=False\n",
            "clip.encoder.layers.22.self_attn.q_proj.weight: requires_grad=False\n",
            "clip.encoder.layers.22.self_attn.q_proj.bias: requires_grad=False\n",
            "clip.encoder.layers.22.self_attn.out_proj.weight: requires_grad=False\n",
            "clip.encoder.layers.22.self_attn.out_proj.bias: requires_grad=False\n",
            "clip.encoder.layers.22.layer_norm1.weight: requires_grad=False\n",
            "clip.encoder.layers.22.layer_norm1.bias: requires_grad=False\n",
            "clip.encoder.layers.22.mlp.fc1.weight: requires_grad=False\n",
            "clip.encoder.layers.22.mlp.fc1.bias: requires_grad=False\n",
            "clip.encoder.layers.22.mlp.fc2.weight: requires_grad=False\n",
            "clip.encoder.layers.22.mlp.fc2.bias: requires_grad=False\n",
            "clip.encoder.layers.22.layer_norm2.weight: requires_grad=False\n",
            "clip.encoder.layers.22.layer_norm2.bias: requires_grad=False\n",
            "clip.encoder.layers.23.self_attn.k_proj.weight: requires_grad=False\n",
            "clip.encoder.layers.23.self_attn.k_proj.bias: requires_grad=False\n",
            "clip.encoder.layers.23.self_attn.v_proj.weight: requires_grad=False\n",
            "clip.encoder.layers.23.self_attn.v_proj.bias: requires_grad=False\n",
            "clip.encoder.layers.23.self_attn.q_proj.weight: requires_grad=False\n",
            "clip.encoder.layers.23.self_attn.q_proj.bias: requires_grad=False\n",
            "clip.encoder.layers.23.self_attn.out_proj.weight: requires_grad=False\n",
            "clip.encoder.layers.23.self_attn.out_proj.bias: requires_grad=False\n",
            "clip.encoder.layers.23.layer_norm1.weight: requires_grad=False\n",
            "clip.encoder.layers.23.layer_norm1.bias: requires_grad=False\n",
            "clip.encoder.layers.23.mlp.fc1.weight: requires_grad=False\n",
            "clip.encoder.layers.23.mlp.fc1.bias: requires_grad=False\n",
            "clip.encoder.layers.23.mlp.fc2.weight: requires_grad=False\n",
            "clip.encoder.layers.23.mlp.fc2.bias: requires_grad=False\n",
            "clip.encoder.layers.23.layer_norm2.weight: requires_grad=False\n",
            "clip.encoder.layers.23.layer_norm2.bias: requires_grad=False\n",
            "clip.post_layernorm.weight: requires_grad=False\n",
            "clip.post_layernorm.bias: requires_grad=False\n",
            "mlp.0.weight: requires_grad=True\n",
            "mlp.0.bias: requires_grad=True\n",
            "mlp.1.weight: requires_grad=True\n",
            "mlp.1.bias: requires_grad=True\n",
            "mlp.4.weight: requires_grad=True\n",
            "mlp.4.bias: requires_grad=True\n"
          ]
        }
      ],
      "source": [
        "for name, param in model.named_parameters():\n",
        "    print(f'{name}: {\"requires_grad=True\" if param.requires_grad else \"requires_grad=False\"}')"
      ]
    },
    {
      "cell_type": "code",
      "execution_count": null,
      "metadata": {
        "id": "sWnEaEkeFFqT",
        "outputId": "ef234240-c46c-4775-a5a7-e5f9d2be1567"
      },
      "outputs": [
        {
          "name": "stderr",
          "output_type": "stream",
          "text": [
            "Epoch 1/100: 100%|██████████| 376/376 [05:44<00:00,  1.09it/s]\n"
          ]
        },
        {
          "name": "stdout",
          "output_type": "stream",
          "text": [
            "Epoch 1/100, Train_Loss: 3.9397, Test_Loss: 2.0467, Accuracy: 72.88%\n"
          ]
        },
        {
          "name": "stderr",
          "output_type": "stream",
          "text": [
            "Epoch 2/100: 100%|██████████| 376/376 [05:44<00:00,  1.09it/s]\n"
          ]
        },
        {
          "name": "stdout",
          "output_type": "stream",
          "text": [
            "Epoch 2/100, Train_Loss: 2.5175, Test_Loss: 1.7830, Accuracy: 78.80%\n"
          ]
        },
        {
          "name": "stderr",
          "output_type": "stream",
          "text": [
            "Epoch 3/100: 100%|██████████| 376/376 [05:44<00:00,  1.09it/s]\n"
          ]
        },
        {
          "name": "stdout",
          "output_type": "stream",
          "text": [
            "Epoch 3/100, Train_Loss: 2.3155, Test_Loss: 1.7066, Accuracy: 80.60%\n"
          ]
        },
        {
          "name": "stderr",
          "output_type": "stream",
          "text": [
            "Epoch 4/100: 100%|██████████| 376/376 [05:45<00:00,  1.09it/s]\n"
          ]
        },
        {
          "name": "stdout",
          "output_type": "stream",
          "text": [
            "Epoch 4/100, Train_Loss: 2.1999, Test_Loss: 1.6605, Accuracy: 82.20%\n"
          ]
        },
        {
          "name": "stderr",
          "output_type": "stream",
          "text": [
            "Epoch 5/100: 100%|██████████| 376/376 [05:45<00:00,  1.09it/s]\n"
          ]
        },
        {
          "name": "stdout",
          "output_type": "stream",
          "text": [
            "Epoch 5/100, Train_Loss: 2.1328, Test_Loss: 1.6493, Accuracy: 82.83%\n"
          ]
        },
        {
          "name": "stderr",
          "output_type": "stream",
          "text": [
            "Epoch 6/100: 100%|██████████| 376/376 [05:45<00:00,  1.09it/s]\n"
          ]
        },
        {
          "name": "stdout",
          "output_type": "stream",
          "text": [
            "Epoch 6/100, Train_Loss: 2.0812, Test_Loss: 1.6285, Accuracy: 83.49%\n"
          ]
        },
        {
          "name": "stderr",
          "output_type": "stream",
          "text": [
            "Epoch 7/100: 100%|██████████| 376/376 [05:45<00:00,  1.09it/s]\n"
          ]
        },
        {
          "name": "stdout",
          "output_type": "stream",
          "text": [
            "Epoch 7/100, Train_Loss: 2.0439, Test_Loss: 1.6127, Accuracy: 83.79%\n"
          ]
        },
        {
          "name": "stderr",
          "output_type": "stream",
          "text": [
            "Epoch 8/100: 100%|██████████| 376/376 [05:45<00:00,  1.09it/s]\n"
          ]
        },
        {
          "name": "stdout",
          "output_type": "stream",
          "text": [
            "Epoch 8/100, Train_Loss: 2.0265, Test_Loss: 1.6013, Accuracy: 83.99%\n"
          ]
        },
        {
          "name": "stderr",
          "output_type": "stream",
          "text": [
            "Epoch 9/100: 100%|██████████| 376/376 [05:43<00:00,  1.09it/s]\n"
          ]
        },
        {
          "name": "stdout",
          "output_type": "stream",
          "text": [
            "Epoch 9/100, Train_Loss: 1.9962, Test_Loss: 1.5972, Accuracy: 83.46%\n"
          ]
        },
        {
          "name": "stderr",
          "output_type": "stream",
          "text": [
            "Epoch 10/100: 100%|██████████| 376/376 [05:45<00:00,  1.09it/s]\n"
          ]
        },
        {
          "name": "stdout",
          "output_type": "stream",
          "text": [
            "Epoch 10/100, Train_Loss: 1.9807, Test_Loss: 1.5915, Accuracy: 84.63%\n"
          ]
        },
        {
          "name": "stderr",
          "output_type": "stream",
          "text": [
            "Epoch 11/100: 100%|██████████| 376/376 [05:45<00:00,  1.09it/s]\n"
          ]
        },
        {
          "name": "stdout",
          "output_type": "stream",
          "text": [
            "Epoch 11/100, Train_Loss: 1.9520, Test_Loss: 1.5803, Accuracy: 84.86%\n"
          ]
        },
        {
          "name": "stderr",
          "output_type": "stream",
          "text": [
            "Epoch 12/100: 100%|██████████| 376/376 [05:44<00:00,  1.09it/s]\n"
          ]
        },
        {
          "name": "stdout",
          "output_type": "stream",
          "text": [
            "Epoch 12/100, Train_Loss: 1.9332, Test_Loss: 1.5774, Accuracy: 85.32%\n"
          ]
        },
        {
          "name": "stderr",
          "output_type": "stream",
          "text": [
            "Epoch 13/100: 100%|██████████| 376/376 [05:45<00:00,  1.09it/s]\n"
          ]
        },
        {
          "name": "stdout",
          "output_type": "stream",
          "text": [
            "Epoch 13/100, Train_Loss: 1.9121, Test_Loss: 1.5809, Accuracy: 84.59%\n"
          ]
        },
        {
          "name": "stderr",
          "output_type": "stream",
          "text": [
            "Epoch 14/100: 100%|██████████| 376/376 [05:44<00:00,  1.09it/s]\n"
          ]
        },
        {
          "name": "stdout",
          "output_type": "stream",
          "text": [
            "Epoch 14/100, Train_Loss: 1.9086, Test_Loss: 1.5774, Accuracy: 84.46%\n"
          ]
        },
        {
          "name": "stderr",
          "output_type": "stream",
          "text": [
            "Epoch 15/100: 100%|██████████| 376/376 [05:44<00:00,  1.09it/s]\n"
          ]
        },
        {
          "name": "stdout",
          "output_type": "stream",
          "text": [
            "Epoch 15/100, Train_Loss: 1.8903, Test_Loss: 1.5832, Accuracy: 84.19%\n"
          ]
        },
        {
          "name": "stderr",
          "output_type": "stream",
          "text": [
            "Epoch 16/100: 100%|██████████| 376/376 [05:44<00:00,  1.09it/s]\n"
          ]
        },
        {
          "name": "stdout",
          "output_type": "stream",
          "text": [
            "Epoch 16/100, Train_Loss: 1.8746, Test_Loss: 1.5814, Accuracy: 84.99%\n",
            "Epoch 00016: reducing learning rate of group 0 to 1.0000e-04.\n"
          ]
        },
        {
          "name": "stderr",
          "output_type": "stream",
          "text": [
            "Epoch 17/100: 100%|██████████| 376/376 [05:45<00:00,  1.09it/s]\n"
          ]
        },
        {
          "name": "stdout",
          "output_type": "stream",
          "text": [
            "Epoch 17/100, Train_Loss: 1.8243, Test_Loss: 1.5585, Accuracy: 85.09%\n"
          ]
        },
        {
          "name": "stderr",
          "output_type": "stream",
          "text": [
            "Epoch 18/100: 100%|██████████| 376/376 [05:44<00:00,  1.09it/s]\n"
          ]
        },
        {
          "name": "stdout",
          "output_type": "stream",
          "text": [
            "Epoch 18/100, Train_Loss: 1.7940, Test_Loss: 1.5511, Accuracy: 85.46%\n"
          ]
        },
        {
          "name": "stderr",
          "output_type": "stream",
          "text": [
            "Epoch 19/100: 100%|██████████| 376/376 [05:45<00:00,  1.09it/s]\n"
          ]
        },
        {
          "name": "stdout",
          "output_type": "stream",
          "text": [
            "Epoch 19/100, Train_Loss: 1.7915, Test_Loss: 1.5489, Accuracy: 85.49%\n"
          ]
        },
        {
          "name": "stderr",
          "output_type": "stream",
          "text": [
            "Epoch 20/100: 100%|██████████| 376/376 [05:45<00:00,  1.09it/s]\n"
          ]
        },
        {
          "name": "stdout",
          "output_type": "stream",
          "text": [
            "Epoch 20/100, Train_Loss: 1.7737, Test_Loss: 1.5463, Accuracy: 85.86%\n"
          ]
        },
        {
          "name": "stderr",
          "output_type": "stream",
          "text": [
            "Epoch 21/100: 100%|██████████| 376/376 [05:44<00:00,  1.09it/s]\n"
          ]
        },
        {
          "name": "stdout",
          "output_type": "stream",
          "text": [
            "Epoch 21/100, Train_Loss: 1.7785, Test_Loss: 1.5438, Accuracy: 86.06%\n"
          ]
        },
        {
          "name": "stderr",
          "output_type": "stream",
          "text": [
            "Epoch 22/100: 100%|██████████| 376/376 [05:45<00:00,  1.09it/s]\n"
          ]
        },
        {
          "name": "stdout",
          "output_type": "stream",
          "text": [
            "Epoch 22/100, Train_Loss: 1.7673, Test_Loss: 1.5438, Accuracy: 86.09%\n"
          ]
        },
        {
          "name": "stderr",
          "output_type": "stream",
          "text": [
            "Epoch 23/100: 100%|██████████| 376/376 [05:45<00:00,  1.09it/s]\n"
          ]
        },
        {
          "name": "stdout",
          "output_type": "stream",
          "text": [
            "Epoch 23/100, Train_Loss: 1.7627, Test_Loss: 1.5402, Accuracy: 85.86%\n"
          ]
        },
        {
          "name": "stderr",
          "output_type": "stream",
          "text": [
            "Epoch 24/100: 100%|██████████| 376/376 [05:44<00:00,  1.09it/s]\n"
          ]
        },
        {
          "name": "stdout",
          "output_type": "stream",
          "text": [
            "Epoch 24/100, Train_Loss: 1.7562, Test_Loss: 1.5396, Accuracy: 85.82%\n"
          ]
        },
        {
          "name": "stderr",
          "output_type": "stream",
          "text": [
            "Epoch 25/100: 100%|██████████| 376/376 [05:44<00:00,  1.09it/s]\n"
          ]
        },
        {
          "name": "stdout",
          "output_type": "stream",
          "text": [
            "Epoch 25/100, Train_Loss: 1.7479, Test_Loss: 1.5363, Accuracy: 86.16%\n"
          ]
        },
        {
          "name": "stderr",
          "output_type": "stream",
          "text": [
            "Epoch 26/100: 100%|██████████| 376/376 [05:44<00:00,  1.09it/s]\n"
          ]
        },
        {
          "name": "stdout",
          "output_type": "stream",
          "text": [
            "Epoch 26/100, Train_Loss: 1.7545, Test_Loss: 1.5378, Accuracy: 86.46%\n"
          ]
        },
        {
          "name": "stderr",
          "output_type": "stream",
          "text": [
            "Epoch 27/100: 100%|██████████| 376/376 [05:45<00:00,  1.09it/s]\n"
          ]
        },
        {
          "name": "stdout",
          "output_type": "stream",
          "text": [
            "Epoch 27/100, Train_Loss: 1.7447, Test_Loss: 1.5361, Accuracy: 86.09%\n"
          ]
        },
        {
          "name": "stderr",
          "output_type": "stream",
          "text": [
            "Epoch 28/100: 100%|██████████| 376/376 [05:45<00:00,  1.09it/s]\n"
          ]
        },
        {
          "name": "stdout",
          "output_type": "stream",
          "text": [
            "Epoch 28/100, Train_Loss: 1.7456, Test_Loss: 1.5374, Accuracy: 85.92%\n"
          ]
        },
        {
          "name": "stderr",
          "output_type": "stream",
          "text": [
            "Epoch 29/100: 100%|██████████| 376/376 [05:45<00:00,  1.09it/s]\n"
          ]
        },
        {
          "name": "stdout",
          "output_type": "stream",
          "text": [
            "Epoch 29/100, Train_Loss: 1.7316, Test_Loss: 1.5355, Accuracy: 85.92%\n"
          ]
        },
        {
          "name": "stderr",
          "output_type": "stream",
          "text": [
            "Epoch 30/100: 100%|██████████| 376/376 [05:45<00:00,  1.09it/s]\n"
          ]
        },
        {
          "name": "stdout",
          "output_type": "stream",
          "text": [
            "Epoch 30/100, Train_Loss: 1.7386, Test_Loss: 1.5352, Accuracy: 86.26%\n"
          ]
        },
        {
          "name": "stderr",
          "output_type": "stream",
          "text": [
            "Epoch 31/100: 100%|██████████| 376/376 [05:44<00:00,  1.09it/s]\n"
          ]
        },
        {
          "name": "stdout",
          "output_type": "stream",
          "text": [
            "Epoch 31/100, Train_Loss: 1.7351, Test_Loss: 1.5370, Accuracy: 85.99%\n"
          ]
        },
        {
          "name": "stderr",
          "output_type": "stream",
          "text": [
            "Epoch 32/100: 100%|██████████| 376/376 [05:44<00:00,  1.09it/s]\n"
          ]
        },
        {
          "name": "stdout",
          "output_type": "stream",
          "text": [
            "Epoch 32/100, Train_Loss: 1.7278, Test_Loss: 1.5381, Accuracy: 85.96%\n"
          ]
        },
        {
          "name": "stderr",
          "output_type": "stream",
          "text": [
            "Epoch 33/100: 100%|██████████| 376/376 [05:44<00:00,  1.09it/s]\n"
          ]
        },
        {
          "name": "stdout",
          "output_type": "stream",
          "text": [
            "Epoch 33/100, Train_Loss: 1.7230, Test_Loss: 1.5343, Accuracy: 85.89%\n"
          ]
        },
        {
          "name": "stderr",
          "output_type": "stream",
          "text": [
            "Epoch 34/100: 100%|██████████| 376/376 [05:44<00:00,  1.09it/s]\n"
          ]
        },
        {
          "name": "stdout",
          "output_type": "stream",
          "text": [
            "Epoch 34/100, Train_Loss: 1.7155, Test_Loss: 1.5345, Accuracy: 85.89%\n"
          ]
        },
        {
          "name": "stderr",
          "output_type": "stream",
          "text": [
            "Epoch 35/100: 100%|██████████| 376/376 [05:45<00:00,  1.09it/s]\n"
          ]
        },
        {
          "name": "stdout",
          "output_type": "stream",
          "text": [
            "Epoch 35/100, Train_Loss: 1.7179, Test_Loss: 1.5325, Accuracy: 85.92%\n"
          ]
        },
        {
          "name": "stderr",
          "output_type": "stream",
          "text": [
            "Epoch 36/100: 100%|██████████| 376/376 [05:44<00:00,  1.09it/s]\n"
          ]
        },
        {
          "name": "stdout",
          "output_type": "stream",
          "text": [
            "Epoch 36/100, Train_Loss: 1.7263, Test_Loss: 1.5334, Accuracy: 85.89%\n"
          ]
        },
        {
          "name": "stderr",
          "output_type": "stream",
          "text": [
            "Epoch 37/100: 100%|██████████| 376/376 [05:45<00:00,  1.09it/s]\n"
          ]
        },
        {
          "name": "stdout",
          "output_type": "stream",
          "text": [
            "Epoch 37/100, Train_Loss: 1.7217, Test_Loss: 1.5349, Accuracy: 86.22%\n"
          ]
        },
        {
          "name": "stderr",
          "output_type": "stream",
          "text": [
            "Epoch 38/100: 100%|██████████| 376/376 [05:45<00:00,  1.09it/s]\n"
          ]
        },
        {
          "name": "stdout",
          "output_type": "stream",
          "text": [
            "Epoch 38/100, Train_Loss: 1.7230, Test_Loss: 1.5344, Accuracy: 86.12%\n"
          ]
        },
        {
          "name": "stderr",
          "output_type": "stream",
          "text": [
            "Epoch 39/100: 100%|██████████| 376/376 [05:44<00:00,  1.09it/s]\n"
          ]
        },
        {
          "name": "stdout",
          "output_type": "stream",
          "text": [
            "Epoch 39/100, Train_Loss: 1.7162, Test_Loss: 1.5331, Accuracy: 86.22%\n",
            "Epoch 00039: reducing learning rate of group 0 to 1.0000e-05.\n"
          ]
        },
        {
          "name": "stderr",
          "output_type": "stream",
          "text": [
            "Epoch 40/100: 100%|██████████| 376/376 [05:45<00:00,  1.09it/s]\n"
          ]
        },
        {
          "name": "stdout",
          "output_type": "stream",
          "text": [
            "Epoch 40/100, Train_Loss: 1.7050, Test_Loss: 1.5319, Accuracy: 86.09%\n"
          ]
        },
        {
          "name": "stderr",
          "output_type": "stream",
          "text": [
            "Epoch 41/100: 100%|██████████| 376/376 [05:44<00:00,  1.09it/s]\n"
          ]
        },
        {
          "name": "stdout",
          "output_type": "stream",
          "text": [
            "Epoch 41/100, Train_Loss: 1.7039, Test_Loss: 1.5326, Accuracy: 86.16%\n"
          ]
        },
        {
          "name": "stderr",
          "output_type": "stream",
          "text": [
            "Epoch 42/100: 100%|██████████| 376/376 [05:45<00:00,  1.09it/s]\n"
          ]
        },
        {
          "name": "stdout",
          "output_type": "stream",
          "text": [
            "Epoch 42/100, Train_Loss: 1.7079, Test_Loss: 1.5323, Accuracy: 86.16%\n"
          ]
        },
        {
          "name": "stderr",
          "output_type": "stream",
          "text": [
            "Epoch 43/100: 100%|██████████| 376/376 [05:45<00:00,  1.09it/s]\n"
          ]
        },
        {
          "name": "stdout",
          "output_type": "stream",
          "text": [
            "Epoch 43/100, Train_Loss: 1.7034, Test_Loss: 1.5309, Accuracy: 86.06%\n"
          ]
        },
        {
          "name": "stderr",
          "output_type": "stream",
          "text": [
            "Epoch 44/100: 100%|██████████| 376/376 [05:45<00:00,  1.09it/s]\n"
          ]
        },
        {
          "name": "stdout",
          "output_type": "stream",
          "text": [
            "Epoch 44/100, Train_Loss: 1.7004, Test_Loss: 1.5328, Accuracy: 86.02%\n"
          ]
        },
        {
          "name": "stderr",
          "output_type": "stream",
          "text": [
            "Epoch 45/100: 100%|██████████| 376/376 [05:45<00:00,  1.09it/s]\n"
          ]
        },
        {
          "name": "stdout",
          "output_type": "stream",
          "text": [
            "Epoch 45/100, Train_Loss: 1.6985, Test_Loss: 1.5312, Accuracy: 86.12%\n"
          ]
        },
        {
          "name": "stderr",
          "output_type": "stream",
          "text": [
            "Epoch 46/100: 100%|██████████| 376/376 [05:44<00:00,  1.09it/s]\n"
          ]
        },
        {
          "name": "stdout",
          "output_type": "stream",
          "text": [
            "Epoch 46/100, Train_Loss: 1.6982, Test_Loss: 1.5319, Accuracy: 86.26%\n"
          ]
        },
        {
          "name": "stderr",
          "output_type": "stream",
          "text": [
            "Epoch 47/100: 100%|██████████| 376/376 [05:45<00:00,  1.09it/s]\n"
          ]
        },
        {
          "name": "stdout",
          "output_type": "stream",
          "text": [
            "Epoch 47/100, Train_Loss: 1.6998, Test_Loss: 1.5314, Accuracy: 86.16%\n",
            "Epoch 00047: reducing learning rate of group 0 to 1.0000e-06.\n"
          ]
        },
        {
          "name": "stderr",
          "output_type": "stream",
          "text": [
            "Epoch 48/100: 100%|██████████| 376/376 [05:45<00:00,  1.09it/s]\n"
          ]
        },
        {
          "name": "stdout",
          "output_type": "stream",
          "text": [
            "Epoch 48/100, Train_Loss: 1.6999, Test_Loss: 1.5310, Accuracy: 86.12%\n"
          ]
        }
      ],
      "source": [
        "\n",
        "\n",
        "epochs = 100\n",
        "criterion =nn.CrossEntropyLoss(label_smoothing = 0.1)\n",
        "optimizer = optim.AdamW(filter(lambda p:p.requires_grad,model.parameters()), lr=1e-3, weight_decay=0.01)\n",
        "\n",
        "scheduler = ReduceLROnPlateau(optimizer, mode='min', factor=0.1, patience=3, verbose=True)\n",
        "trainer = Train(model, device = device, train_loader = train_loader, val_loader = val_loader, epochs = epochs,\n",
        "                    optimizer = optimizer, criterion = criterion, scheduler = scheduler, early_stop= True, patience_limit=5)\n",
        "trainer.train()\n",
        "\n",
        "torch.save(trainer.model.state_dict(), '/data/ephemeral/home/jb_train_result/Clip_rop.pt')"
      ]
    },
    {
      "cell_type": "code",
      "execution_count": null,
      "metadata": {
        "id": "imEJRsVmFFqT"
      },
      "outputs": [],
      "source": [
        "model.load_state_dict(torch.load('/data/ephemeral/home/jb_train_result/Clip_check.pt'))\n",
        "torch.save(model.state_dict(), '/data/ephemeral/home/jb_train_result/Clip_check.pt')"
      ]
    },
    {
      "cell_type": "code",
      "execution_count": null,
      "metadata": {
        "id": "ELi4ygsiFFqT"
      },
      "outputs": [],
      "source": [
        "total_params = 397\n",
        "params_per_group = 20\n",
        "def set_param_groups(model, group_index, params_per_group):\n",
        "    cnt = 0\n",
        "    for param in model.parameters():\n",
        "        # 해당 그룹의 파라미터만 고정 해제\n",
        "        if group_index * params_per_group <= cnt < (group_index + 1) * params_per_group:\n",
        "            param.requires_grad = True  # 해제\n",
        "        else:\n",
        "            param.requires_grad = False  # 고정\n",
        "        cnt += 1\n",
        "# 총 그룹 개수 계산 (나머지 파라미터 포함)\n",
        "num_groups = (total_params + params_per_group - 1) // params_per_group  # 그룹 개수 계산 (올림)\n"
      ]
    },
    {
      "cell_type": "code",
      "execution_count": null,
      "metadata": {
        "id": "2jWWR0X2FFqT",
        "outputId": "303ea4bb-3b43-4d2c-e6f7-40d730a096d0"
      },
      "outputs": [
        {
          "name": "stderr",
          "output_type": "stream",
          "text": [
            "Epoch 1/5: 100%|██████████| 376/376 [07:52<00:00,  1.26s/it]\n"
          ]
        },
        {
          "name": "stdout",
          "output_type": "stream",
          "text": [
            "Epoch 1/5, Train_Loss: 1.5110, Test_Loss: 1.4856, Accuracy: 87.32%\n"
          ]
        },
        {
          "name": "stderr",
          "output_type": "stream",
          "text": [
            "Epoch 2/5: 100%|██████████| 376/376 [07:52<00:00,  1.26s/it]\n"
          ]
        },
        {
          "name": "stdout",
          "output_type": "stream",
          "text": [
            "Epoch 2/5, Train_Loss: 1.5184, Test_Loss: 1.4831, Accuracy: 87.29%\n"
          ]
        },
        {
          "name": "stderr",
          "output_type": "stream",
          "text": [
            "Epoch 3/5: 100%|██████████| 376/376 [07:52<00:00,  1.26s/it]\n"
          ]
        },
        {
          "name": "stdout",
          "output_type": "stream",
          "text": [
            "Epoch 3/5, Train_Loss: 1.5121, Test_Loss: 1.4844, Accuracy: 87.35%\n"
          ]
        },
        {
          "name": "stderr",
          "output_type": "stream",
          "text": [
            "Epoch 4/5: 100%|██████████| 376/376 [07:52<00:00,  1.26s/it]\n"
          ]
        },
        {
          "name": "stdout",
          "output_type": "stream",
          "text": [
            "Epoch 4/5, Train_Loss: 1.5070, Test_Loss: 1.4827, Accuracy: 87.39%\n"
          ]
        },
        {
          "name": "stderr",
          "output_type": "stream",
          "text": [
            "Epoch 5/5: 100%|██████████| 376/376 [07:52<00:00,  1.26s/it]\n"
          ]
        },
        {
          "name": "stdout",
          "output_type": "stream",
          "text": [
            "Epoch 5/5, Train_Loss: 1.5081, Test_Loss: 1.4829, Accuracy: 87.29%\n"
          ]
        },
        {
          "name": "stderr",
          "output_type": "stream",
          "text": [
            "Epoch 1/5: 100%|██████████| 376/376 [07:38<00:00,  1.22s/it]\n"
          ]
        },
        {
          "name": "stdout",
          "output_type": "stream",
          "text": [
            "Epoch 1/5, Train_Loss: 1.5045, Test_Loss: 1.4819, Accuracy: 87.25%\n"
          ]
        },
        {
          "name": "stderr",
          "output_type": "stream",
          "text": [
            "Epoch 2/5: 100%|██████████| 376/376 [07:38<00:00,  1.22s/it]\n"
          ]
        },
        {
          "name": "stdout",
          "output_type": "stream",
          "text": [
            "Epoch 2/5, Train_Loss: 1.5024, Test_Loss: 1.4809, Accuracy: 87.35%\n"
          ]
        },
        {
          "name": "stderr",
          "output_type": "stream",
          "text": [
            "Epoch 3/5: 100%|██████████| 376/376 [07:38<00:00,  1.22s/it]\n"
          ]
        },
        {
          "name": "stdout",
          "output_type": "stream",
          "text": [
            "Epoch 3/5, Train_Loss: 1.5026, Test_Loss: 1.4791, Accuracy: 87.65%\n"
          ]
        },
        {
          "name": "stderr",
          "output_type": "stream",
          "text": [
            "Epoch 4/5: 100%|██████████| 376/376 [07:38<00:00,  1.22s/it]\n"
          ]
        },
        {
          "name": "stdout",
          "output_type": "stream",
          "text": [
            "Epoch 4/5, Train_Loss: 1.4989, Test_Loss: 1.4783, Accuracy: 87.59%\n"
          ]
        },
        {
          "name": "stderr",
          "output_type": "stream",
          "text": [
            "Epoch 5/5: 100%|██████████| 376/376 [07:38<00:00,  1.22s/it]\n"
          ]
        },
        {
          "name": "stdout",
          "output_type": "stream",
          "text": [
            "Epoch 5/5, Train_Loss: 1.4982, Test_Loss: 1.4797, Accuracy: 87.72%\n"
          ]
        },
        {
          "name": "stderr",
          "output_type": "stream",
          "text": [
            "Epoch 1/5: 100%|██████████| 376/376 [07:16<00:00,  1.16s/it]\n"
          ]
        },
        {
          "name": "stdout",
          "output_type": "stream",
          "text": [
            "Epoch 1/5, Train_Loss: 1.4968, Test_Loss: 1.4778, Accuracy: 87.49%\n"
          ]
        },
        {
          "name": "stderr",
          "output_type": "stream",
          "text": [
            "Epoch 2/5: 100%|██████████| 376/376 [07:16<00:00,  1.16s/it]\n"
          ]
        },
        {
          "name": "stdout",
          "output_type": "stream",
          "text": [
            "Epoch 2/5, Train_Loss: 1.4984, Test_Loss: 1.4771, Accuracy: 87.39%\n"
          ]
        },
        {
          "name": "stderr",
          "output_type": "stream",
          "text": [
            "Epoch 3/5: 100%|██████████| 376/376 [07:15<00:00,  1.16s/it]\n"
          ]
        },
        {
          "name": "stdout",
          "output_type": "stream",
          "text": [
            "Epoch 3/5, Train_Loss: 1.4925, Test_Loss: 1.4778, Accuracy: 87.35%\n"
          ]
        },
        {
          "name": "stderr",
          "output_type": "stream",
          "text": [
            "Epoch 4/5: 100%|██████████| 376/376 [07:15<00:00,  1.16s/it]\n"
          ]
        },
        {
          "name": "stdout",
          "output_type": "stream",
          "text": [
            "Epoch 4/5, Train_Loss: 1.4941, Test_Loss: 1.4759, Accuracy: 87.45%\n"
          ]
        },
        {
          "name": "stderr",
          "output_type": "stream",
          "text": [
            "Epoch 5/5: 100%|██████████| 376/376 [07:16<00:00,  1.16s/it]\n"
          ]
        },
        {
          "name": "stdout",
          "output_type": "stream",
          "text": [
            "Epoch 5/5, Train_Loss: 1.4917, Test_Loss: 1.4768, Accuracy: 87.32%\n"
          ]
        },
        {
          "name": "stderr",
          "output_type": "stream",
          "text": [
            "Epoch 1/5: 100%|██████████| 376/376 [06:58<00:00,  1.11s/it]\n"
          ]
        },
        {
          "name": "stdout",
          "output_type": "stream",
          "text": [
            "Epoch 1/5, Train_Loss: 1.4894, Test_Loss: 1.4758, Accuracy: 87.52%\n"
          ]
        },
        {
          "name": "stderr",
          "output_type": "stream",
          "text": [
            "Epoch 2/5: 100%|██████████| 376/376 [06:58<00:00,  1.11s/it]\n"
          ]
        },
        {
          "name": "stdout",
          "output_type": "stream",
          "text": [
            "Epoch 2/5, Train_Loss: 1.4946, Test_Loss: 1.4756, Accuracy: 87.35%\n"
          ]
        },
        {
          "name": "stderr",
          "output_type": "stream",
          "text": [
            "Epoch 3/5: 100%|██████████| 376/376 [06:58<00:00,  1.11s/it]\n"
          ]
        },
        {
          "name": "stdout",
          "output_type": "stream",
          "text": [
            "Epoch 3/5, Train_Loss: 1.4871, Test_Loss: 1.4744, Accuracy: 87.55%\n"
          ]
        },
        {
          "name": "stderr",
          "output_type": "stream",
          "text": [
            "Epoch 4/5: 100%|██████████| 376/376 [06:58<00:00,  1.11s/it]\n"
          ]
        },
        {
          "name": "stdout",
          "output_type": "stream",
          "text": [
            "Epoch 4/5, Train_Loss: 1.4855, Test_Loss: 1.4738, Accuracy: 87.42%\n"
          ]
        },
        {
          "name": "stderr",
          "output_type": "stream",
          "text": [
            "Epoch 5/5: 100%|██████████| 376/376 [06:59<00:00,  1.12s/it]\n"
          ]
        },
        {
          "name": "stdout",
          "output_type": "stream",
          "text": [
            "Epoch 5/5, Train_Loss: 1.4856, Test_Loss: 1.4746, Accuracy: 87.52%\n"
          ]
        },
        {
          "name": "stderr",
          "output_type": "stream",
          "text": [
            "Epoch 1/5: 100%|██████████| 376/376 [06:33<00:00,  1.05s/it]\n"
          ]
        },
        {
          "name": "stdout",
          "output_type": "stream",
          "text": [
            "Epoch 1/5, Train_Loss: 1.4894, Test_Loss: 1.4738, Accuracy: 87.32%\n"
          ]
        },
        {
          "name": "stderr",
          "output_type": "stream",
          "text": [
            "Epoch 2/5: 100%|██████████| 376/376 [06:33<00:00,  1.05s/it]\n"
          ]
        },
        {
          "name": "stdout",
          "output_type": "stream",
          "text": [
            "Epoch 2/5, Train_Loss: 1.4836, Test_Loss: 1.4735, Accuracy: 87.35%\n"
          ]
        },
        {
          "name": "stderr",
          "output_type": "stream",
          "text": [
            "Epoch 3/5: 100%|██████████| 376/376 [06:33<00:00,  1.05s/it]\n"
          ]
        },
        {
          "name": "stdout",
          "output_type": "stream",
          "text": [
            "Epoch 3/5, Train_Loss: 1.4784, Test_Loss: 1.4732, Accuracy: 87.42%\n"
          ]
        },
        {
          "name": "stderr",
          "output_type": "stream",
          "text": [
            "Epoch 4/5: 100%|██████████| 376/376 [06:33<00:00,  1.05s/it]\n"
          ]
        },
        {
          "name": "stdout",
          "output_type": "stream",
          "text": [
            "Epoch 4/5, Train_Loss: 1.4763, Test_Loss: 1.4729, Accuracy: 87.49%\n"
          ]
        },
        {
          "name": "stderr",
          "output_type": "stream",
          "text": [
            "Epoch 5/5: 100%|██████████| 376/376 [06:33<00:00,  1.05s/it]\n"
          ]
        },
        {
          "name": "stdout",
          "output_type": "stream",
          "text": [
            "Epoch 5/5, Train_Loss: 1.4800, Test_Loss: 1.4734, Accuracy: 87.42%\n"
          ]
        },
        {
          "name": "stderr",
          "output_type": "stream",
          "text": [
            "Epoch 1/5: 100%|██████████| 376/376 [06:10<00:00,  1.01it/s]\n"
          ]
        },
        {
          "name": "stdout",
          "output_type": "stream",
          "text": [
            "Epoch 1/5, Train_Loss: 1.4746, Test_Loss: 1.4743, Accuracy: 87.35%\n"
          ]
        },
        {
          "name": "stderr",
          "output_type": "stream",
          "text": [
            "Epoch 2/5: 100%|██████████| 376/376 [06:10<00:00,  1.01it/s]\n"
          ]
        },
        {
          "name": "stdout",
          "output_type": "stream",
          "text": [
            "Epoch 2/5, Train_Loss: 1.4791, Test_Loss: 1.4740, Accuracy: 87.55%\n"
          ]
        },
        {
          "name": "stderr",
          "output_type": "stream",
          "text": [
            "Epoch 3/5: 100%|██████████| 376/376 [06:10<00:00,  1.02it/s]\n"
          ]
        },
        {
          "name": "stdout",
          "output_type": "stream",
          "text": [
            "Epoch 3/5, Train_Loss: 1.4792, Test_Loss: 1.4722, Accuracy: 87.32%\n"
          ]
        },
        {
          "name": "stderr",
          "output_type": "stream",
          "text": [
            "Epoch 4/5: 100%|██████████| 376/376 [06:10<00:00,  1.02it/s]\n"
          ]
        },
        {
          "name": "stdout",
          "output_type": "stream",
          "text": [
            "Epoch 4/5, Train_Loss: 1.4810, Test_Loss: 1.4726, Accuracy: 87.39%\n"
          ]
        },
        {
          "name": "stderr",
          "output_type": "stream",
          "text": [
            "Epoch 5/5: 100%|██████████| 376/376 [06:10<00:00,  1.02it/s]\n"
          ]
        },
        {
          "name": "stdout",
          "output_type": "stream",
          "text": [
            "Epoch 5/5, Train_Loss: 1.4689, Test_Loss: 1.4732, Accuracy: 87.29%\n"
          ]
        }
      ],
      "source": [
        "for group_index in range(num_groups):\n",
        "    model.load_state_dict(torch.load('/data/ephemeral/home/jb_train_result/Clip_lr.pt'))\n",
        "    set_param_groups(model,group_index,params_per_group)\n",
        "    criterion =nn.CrossEntropyLoss(label_smoothing = 0.1)\n",
        "    optimizer = optim.AdamW(filter(lambda p:p.requires_grad,model.parameters()), lr=1e-6, weight_decay=0.01)\n",
        "\n",
        "    scheduler = ReduceLROnPlateau(optimizer, mode='min', factor=0.1, patience=3, verbose=True)\n",
        "    trainer = Train(model, device = device, train_loader = train_loader, val_loader = val_loader, epochs = 5,\n",
        "                        optimizer = optimizer, criterion = criterion, scheduler = scheduler, early_stop= False, patience_limit=5)\n",
        "    trainer.train()\n",
        "    model.load_state_dict(torch.load('/data/ephemeral/home/jb_train_result/Clip_lr.pt'))\n",
        "    torch.save(trainer.model.state_dict(), f'/data/ephemeral/home/jb_train_result/Clip_fine{group_index}.pt')"
      ]
    },
    {
      "cell_type": "code",
      "execution_count": null,
      "metadata": {
        "id": "GGb5zebWFFqT",
        "outputId": "edeea298-2681-4dc7-974c-c345247210bd"
      },
      "outputs": [
        {
          "data": {
            "text/plain": [
              "<All keys matched successfully>"
            ]
          },
          "execution_count": 42,
          "metadata": {},
          "output_type": "execute_result"
        }
      ],
      "source": [
        "model.load_state_dict(torch.load('/data/ephemeral/home/jb_train_result/Clip_fine19.pt'))"
      ]
    },
    {
      "cell_type": "code",
      "execution_count": null,
      "metadata": {
        "id": "fsPhwq76FFqU"
      },
      "outputs": [],
      "source": [
        "class TestDataset(Dataset):\n",
        "    def __init__(self, image_paths):\n",
        "        self.image_paths = image_paths\n",
        "\n",
        "    def __len__(self):\n",
        "        return len(self.image_paths)\n",
        "\n",
        "    def __getitem__(self, idx):\n",
        "        image_path = self.image_paths[idx]\n",
        "        image = Image.open(os.path.join(test_base_dir, image_path)).convert('RGB')\n",
        "        image = np.array(image)\n",
        "        image = transform(image=image)['image']\n",
        "        return image\n",
        "test_dataset = TestDataset(list(test_data['image_path']))"
      ]
    },
    {
      "cell_type": "code",
      "execution_count": null,
      "metadata": {
        "id": "kUlPatbeFFqU",
        "outputId": "8cc6c7c9-e6f2-46df-8066-ff7ccbea22c8"
      },
      "outputs": [
        {
          "name": "stdout",
          "output_type": "stream",
          "text": [
            "157\n"
          ]
        }
      ],
      "source": [
        "test_loader = DataLoader(test_dataset, batch_size=64, shuffle=False)\n",
        "print(len(test_loader))"
      ]
    },
    {
      "cell_type": "code",
      "execution_count": null,
      "metadata": {
        "id": "35jTa4djFFqU",
        "outputId": "7566dc6d-e916-44f2-f530-b2137869b4fd"
      },
      "outputs": [
        {
          "name": "stderr",
          "output_type": "stream",
          "text": [
            "  0%|          | 0/157 [00:00<?, ?it/s]"
          ]
        },
        {
          "name": "stderr",
          "output_type": "stream",
          "text": [
            "100%|██████████| 157/157 [02:57<00:00,  1.13s/it]\n"
          ]
        }
      ],
      "source": [
        "model.to(device)\n",
        "model.eval()\n",
        "\n",
        "predictions = []\n",
        "with torch.no_grad():\n",
        "    for images in tqdm(test_loader):\n",
        "        images = images.to(device)\n",
        "\n",
        "        logits = model(images)\n",
        "        logits = F.softmax(logits, dim=1)\n",
        "        preds = logits.argmax(dim=1)\n",
        "\n",
        "        predictions.extend(preds.cpu().detach().numpy())"
      ]
    },
    {
      "cell_type": "code",
      "execution_count": null,
      "metadata": {
        "id": "z7dNXNUSFFqU",
        "outputId": "4975ee1b-d8a9-482c-ad5b-9189b7bf5ee5"
      },
      "outputs": [
        {
          "data": {
            "text/html": [
              "<div>\n",
              "<style scoped>\n",
              "    .dataframe tbody tr th:only-of-type {\n",
              "        vertical-align: middle;\n",
              "    }\n",
              "\n",
              "    .dataframe tbody tr th {\n",
              "        vertical-align: top;\n",
              "    }\n",
              "\n",
              "    .dataframe thead th {\n",
              "        text-align: right;\n",
              "    }\n",
              "</style>\n",
              "<table border=\"1\" class=\"dataframe\">\n",
              "  <thead>\n",
              "    <tr style=\"text-align: right;\">\n",
              "      <th></th>\n",
              "      <th>ID</th>\n",
              "      <th>image_path</th>\n",
              "      <th>target</th>\n",
              "    </tr>\n",
              "  </thead>\n",
              "  <tbody>\n",
              "    <tr>\n",
              "      <th>0</th>\n",
              "      <td>0</td>\n",
              "      <td>0.JPEG</td>\n",
              "      <td>328</td>\n",
              "    </tr>\n",
              "    <tr>\n",
              "      <th>1</th>\n",
              "      <td>1</td>\n",
              "      <td>1.JPEG</td>\n",
              "      <td>414</td>\n",
              "    </tr>\n",
              "    <tr>\n",
              "      <th>2</th>\n",
              "      <td>2</td>\n",
              "      <td>2.JPEG</td>\n",
              "      <td>493</td>\n",
              "    </tr>\n",
              "    <tr>\n",
              "      <th>3</th>\n",
              "      <td>3</td>\n",
              "      <td>3.JPEG</td>\n",
              "      <td>17</td>\n",
              "    </tr>\n",
              "    <tr>\n",
              "      <th>4</th>\n",
              "      <td>4</td>\n",
              "      <td>4.JPEG</td>\n",
              "      <td>388</td>\n",
              "    </tr>\n",
              "    <tr>\n",
              "      <th>...</th>\n",
              "      <td>...</td>\n",
              "      <td>...</td>\n",
              "      <td>...</td>\n",
              "    </tr>\n",
              "    <tr>\n",
              "      <th>10009</th>\n",
              "      <td>10009</td>\n",
              "      <td>10009.JPEG</td>\n",
              "      <td>235</td>\n",
              "    </tr>\n",
              "    <tr>\n",
              "      <th>10010</th>\n",
              "      <td>10010</td>\n",
              "      <td>10010.JPEG</td>\n",
              "      <td>191</td>\n",
              "    </tr>\n",
              "    <tr>\n",
              "      <th>10011</th>\n",
              "      <td>10011</td>\n",
              "      <td>10011.JPEG</td>\n",
              "      <td>466</td>\n",
              "    </tr>\n",
              "    <tr>\n",
              "      <th>10012</th>\n",
              "      <td>10012</td>\n",
              "      <td>10012.JPEG</td>\n",
              "      <td>258</td>\n",
              "    </tr>\n",
              "    <tr>\n",
              "      <th>10013</th>\n",
              "      <td>10013</td>\n",
              "      <td>10013.JPEG</td>\n",
              "      <td>210</td>\n",
              "    </tr>\n",
              "  </tbody>\n",
              "</table>\n",
              "<p>10014 rows × 3 columns</p>\n",
              "</div>"
            ],
            "text/plain": [
              "          ID  image_path  target\n",
              "0          0      0.JPEG     328\n",
              "1          1      1.JPEG     414\n",
              "2          2      2.JPEG     493\n",
              "3          3      3.JPEG      17\n",
              "4          4      4.JPEG     388\n",
              "...      ...         ...     ...\n",
              "10009  10009  10009.JPEG     235\n",
              "10010  10010  10010.JPEG     191\n",
              "10011  10011  10011.JPEG     466\n",
              "10012  10012  10012.JPEG     258\n",
              "10013  10013  10013.JPEG     210\n",
              "\n",
              "[10014 rows x 3 columns]"
            ]
          },
          "execution_count": 46,
          "metadata": {},
          "output_type": "execute_result"
        }
      ],
      "source": [
        "test_data1 = pd.read_csv(testdata_info_file)\n",
        "\n",
        "test_data1['target'] = predictions\n",
        "test_data1 = test_data1.reset_index().rename(columns={\"index\": \"ID\"})\n",
        "test_data1"
      ]
    },
    {
      "cell_type": "code",
      "execution_count": null,
      "metadata": {
        "id": "SVbSyBIfFFqU",
        "outputId": "b7b975c2-1a39-44f3-cf04-cbf608aedb54"
      },
      "outputs": [
        {
          "data": {
            "text/html": [
              "<div>\n",
              "<style scoped>\n",
              "    .dataframe tbody tr th:only-of-type {\n",
              "        vertical-align: middle;\n",
              "    }\n",
              "\n",
              "    .dataframe tbody tr th {\n",
              "        vertical-align: top;\n",
              "    }\n",
              "\n",
              "    .dataframe thead th {\n",
              "        text-align: right;\n",
              "    }\n",
              "</style>\n",
              "<table border=\"1\" class=\"dataframe\">\n",
              "  <thead>\n",
              "    <tr style=\"text-align: right;\">\n",
              "      <th></th>\n",
              "      <th>ID</th>\n",
              "      <th>image_path</th>\n",
              "      <th>target</th>\n",
              "    </tr>\n",
              "  </thead>\n",
              "  <tbody>\n",
              "    <tr>\n",
              "      <th>0</th>\n",
              "      <td>0</td>\n",
              "      <td>0.JPEG</td>\n",
              "      <td>328</td>\n",
              "    </tr>\n",
              "    <tr>\n",
              "      <th>1</th>\n",
              "      <td>1</td>\n",
              "      <td>1.JPEG</td>\n",
              "      <td>414</td>\n",
              "    </tr>\n",
              "    <tr>\n",
              "      <th>2</th>\n",
              "      <td>2</td>\n",
              "      <td>2.JPEG</td>\n",
              "      <td>493</td>\n",
              "    </tr>\n",
              "    <tr>\n",
              "      <th>3</th>\n",
              "      <td>3</td>\n",
              "      <td>3.JPEG</td>\n",
              "      <td>17</td>\n",
              "    </tr>\n",
              "    <tr>\n",
              "      <th>4</th>\n",
              "      <td>4</td>\n",
              "      <td>4.JPEG</td>\n",
              "      <td>388</td>\n",
              "    </tr>\n",
              "    <tr>\n",
              "      <th>...</th>\n",
              "      <td>...</td>\n",
              "      <td>...</td>\n",
              "      <td>...</td>\n",
              "    </tr>\n",
              "    <tr>\n",
              "      <th>10009</th>\n",
              "      <td>10009</td>\n",
              "      <td>10009.JPEG</td>\n",
              "      <td>235</td>\n",
              "    </tr>\n",
              "    <tr>\n",
              "      <th>10010</th>\n",
              "      <td>10010</td>\n",
              "      <td>10010.JPEG</td>\n",
              "      <td>191</td>\n",
              "    </tr>\n",
              "    <tr>\n",
              "      <th>10011</th>\n",
              "      <td>10011</td>\n",
              "      <td>10011.JPEG</td>\n",
              "      <td>466</td>\n",
              "    </tr>\n",
              "    <tr>\n",
              "      <th>10012</th>\n",
              "      <td>10012</td>\n",
              "      <td>10012.JPEG</td>\n",
              "      <td>258</td>\n",
              "    </tr>\n",
              "    <tr>\n",
              "      <th>10013</th>\n",
              "      <td>10013</td>\n",
              "      <td>10013.JPEG</td>\n",
              "      <td>210</td>\n",
              "    </tr>\n",
              "  </tbody>\n",
              "</table>\n",
              "<p>10014 rows × 3 columns</p>\n",
              "</div>"
            ],
            "text/plain": [
              "          ID  image_path  target\n",
              "0          0      0.JPEG     328\n",
              "1          1      1.JPEG     414\n",
              "2          2      2.JPEG     493\n",
              "3          3      3.JPEG      17\n",
              "4          4      4.JPEG     388\n",
              "...      ...         ...     ...\n",
              "10009  10009  10009.JPEG     235\n",
              "10010  10010  10010.JPEG     191\n",
              "10011  10011  10011.JPEG     466\n",
              "10012  10012  10012.JPEG     258\n",
              "10013  10013  10013.JPEG     210\n",
              "\n",
              "[10014 rows x 3 columns]"
            ]
          },
          "execution_count": 48,
          "metadata": {},
          "output_type": "execute_result"
        }
      ],
      "source": [
        "test_data1.to_csv(\"/data/ephemeral/home/jinbong/output_clip.csv\", index=False)\n",
        "test_data1"
      ]
    }
  ],
  "metadata": {
    "colab": {
      "provenance": []
    },
    "kernelspec": {
      "display_name": "base",
      "language": "python",
      "name": "python3"
    },
    "language_info": {
      "codemirror_mode": {
        "name": "ipython",
        "version": 3
      },
      "file_extension": ".py",
      "mimetype": "text/x-python",
      "name": "python",
      "nbconvert_exporter": "python",
      "pygments_lexer": "ipython3",
      "version": "3.10.13"
    }
  },
  "nbformat": 4,
  "nbformat_minor": 0
}
